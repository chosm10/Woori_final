{
 "cells": [
  {
   "cell_type": "markdown",
   "id": "5bba1942",
   "metadata": {},
   "source": [
    "## k-최근접 이웃 분류모형"
   ]
  },
  {
   "cell_type": "markdown",
   "id": "2749f558",
   "metadata": {},
   "source": [
    "### 관련 라이브러리 호출"
   ]
  },
  {
   "cell_type": "code",
   "execution_count": 1,
   "id": "alien-controversy",
   "metadata": {},
   "outputs": [],
   "source": [
    "# 관련 라이브러리를 호출합니다.\n",
    "import os\n",
    "import joblib\n",
    "import numpy as np\n",
    "import pandas as pd\n",
    "from GraphicSetting import *\n",
    "import hds_stats as hds"
   ]
  },
  {
   "cell_type": "markdown",
   "id": "exterior-oxygen",
   "metadata": {},
   "source": [
    "### 실습 데이터셋 준비"
   ]
  },
  {
   "cell_type": "code",
   "execution_count": 2,
   "id": "228b5b52",
   "metadata": {},
   "outputs": [
    {
     "data": {
      "text/plain": [
       "'/Users/hdsceokevin/Documents/Lectures/Python/MachineLearning/code'"
      ]
     },
     "execution_count": 2,
     "metadata": {},
     "output_type": "execute_result"
    }
   ],
   "source": [
    "# 현재 작업 경로를 확인합니다.\n",
    "os.getcwd()"
   ]
  },
  {
   "cell_type": "code",
   "execution_count": 3,
   "id": "a11530f5",
   "metadata": {},
   "outputs": [],
   "source": [
    "# data 폴더로 작업 경로를 변경합니다.\n",
    "os.chdir(path = '../data')"
   ]
  },
  {
   "cell_type": "code",
   "execution_count": 4,
   "id": "9166b237",
   "metadata": {},
   "outputs": [
    {
     "data": {
      "text/plain": [
       "['Used_Cars_Price.z', 'Univ_Admit.z', 'Cereal_Dataset.z']"
      ]
     },
     "execution_count": 4,
     "metadata": {},
     "output_type": "execute_result"
    }
   ],
   "source": [
    "# 현재 작업 경로에 있는 폴더명과 파일명을 출력합니다.\n",
    "os.listdir()"
   ]
  },
  {
   "cell_type": "code",
   "execution_count": 5,
   "id": "60fa94f8",
   "metadata": {},
   "outputs": [],
   "source": [
    "# 분류모형 실습 데이터셋을 호출합니다.\n",
    "df = joblib.load(filename = 'Univ_Admit.z')"
   ]
  },
  {
   "cell_type": "markdown",
   "id": "c6125332",
   "metadata": {},
   "source": [
    "### 입력변수 행렬과 목표변수 벡터로 분리"
   ]
  },
  {
   "cell_type": "code",
   "execution_count": 6,
   "id": "6853b9da",
   "metadata": {},
   "outputs": [
    {
     "data": {
      "text/html": [
       "<div>\n",
       "<style scoped>\n",
       "    .dataframe tbody tr th:only-of-type {\n",
       "        vertical-align: middle;\n",
       "    }\n",
       "\n",
       "    .dataframe tbody tr th {\n",
       "        vertical-align: top;\n",
       "    }\n",
       "\n",
       "    .dataframe thead th {\n",
       "        text-align: right;\n",
       "    }\n",
       "</style>\n",
       "<table border=\"1\" class=\"dataframe\">\n",
       "  <thead>\n",
       "    <tr style=\"text-align: right;\">\n",
       "      <th></th>\n",
       "      <th>admit</th>\n",
       "      <th>gre</th>\n",
       "      <th>gpa</th>\n",
       "      <th>rank_1</th>\n",
       "      <th>rank_2</th>\n",
       "      <th>rank_3</th>\n",
       "      <th>rank_4</th>\n",
       "    </tr>\n",
       "  </thead>\n",
       "  <tbody>\n",
       "    <tr>\n",
       "      <th>0</th>\n",
       "      <td>Fail</td>\n",
       "      <td>380.0</td>\n",
       "      <td>3.61</td>\n",
       "      <td>0</td>\n",
       "      <td>0</td>\n",
       "      <td>1</td>\n",
       "      <td>0</td>\n",
       "    </tr>\n",
       "    <tr>\n",
       "      <th>1</th>\n",
       "      <td>Pass</td>\n",
       "      <td>660.0</td>\n",
       "      <td>3.67</td>\n",
       "      <td>0</td>\n",
       "      <td>0</td>\n",
       "      <td>1</td>\n",
       "      <td>0</td>\n",
       "    </tr>\n",
       "    <tr>\n",
       "      <th>2</th>\n",
       "      <td>Pass</td>\n",
       "      <td>800.0</td>\n",
       "      <td>4.00</td>\n",
       "      <td>1</td>\n",
       "      <td>0</td>\n",
       "      <td>0</td>\n",
       "      <td>0</td>\n",
       "    </tr>\n",
       "    <tr>\n",
       "      <th>3</th>\n",
       "      <td>Pass</td>\n",
       "      <td>640.0</td>\n",
       "      <td>3.19</td>\n",
       "      <td>0</td>\n",
       "      <td>0</td>\n",
       "      <td>0</td>\n",
       "      <td>1</td>\n",
       "    </tr>\n",
       "    <tr>\n",
       "      <th>4</th>\n",
       "      <td>Fail</td>\n",
       "      <td>520.0</td>\n",
       "      <td>2.93</td>\n",
       "      <td>0</td>\n",
       "      <td>0</td>\n",
       "      <td>0</td>\n",
       "      <td>1</td>\n",
       "    </tr>\n",
       "  </tbody>\n",
       "</table>\n",
       "</div>"
      ],
      "text/plain": [
       "  admit    gre   gpa  rank_1  rank_2  rank_3  rank_4\n",
       "0  Fail  380.0  3.61       0       0       1       0\n",
       "1  Pass  660.0  3.67       0       0       1       0\n",
       "2  Pass  800.0  4.00       1       0       0       0\n",
       "3  Pass  640.0  3.19       0       0       0       1\n",
       "4  Fail  520.0  2.93       0       0       0       1"
      ]
     },
     "execution_count": 6,
     "metadata": {},
     "output_type": "execute_result"
    }
   ],
   "source": [
    "# df의 처음 5행을 출력합니다.\n",
    "df.head()"
   ]
  },
  {
   "cell_type": "code",
   "execution_count": 7,
   "id": "4f29d94f",
   "metadata": {},
   "outputs": [],
   "source": [
    "# 목표변수명을 yvar에 할당합니다.\n",
    "yvar = 'admit'"
   ]
  },
  {
   "cell_type": "code",
   "execution_count": 8,
   "id": "04bebf5f",
   "metadata": {},
   "outputs": [],
   "source": [
    "# 데이터프레임을 입력변수 행렬과 목표변수 벡터로 분리합니다.\n",
    "X = df.drop(columns = yvar)\n",
    "y = df[yvar].copy()"
   ]
  },
  {
   "cell_type": "markdown",
   "id": "9794931f",
   "metadata": {},
   "source": [
    "### 실습 데이터셋 분할"
   ]
  },
  {
   "cell_type": "code",
   "execution_count": 9,
   "id": "3ddae9d5",
   "metadata": {},
   "outputs": [],
   "source": [
    "# 관련 라이브러리를 호출합니다.\n",
    "from sklearn.model_selection import train_test_split"
   ]
  },
  {
   "cell_type": "code",
   "execution_count": 10,
   "id": "f4644b59",
   "metadata": {},
   "outputs": [],
   "source": [
    "# 전체 데이터셋의 70%를 훈련셋, 30%를 검증셋으로 분할합니다.\n",
    "X_train, X_valid, y_train, y_valid = train_test_split(\n",
    "    X, y, test_size = 0.3, random_state = 0, stratify = y\n",
    ")"
   ]
  },
  {
   "cell_type": "markdown",
   "id": "2d69eb65",
   "metadata": {},
   "source": [
    "### 훈련셋과 검증셋 확인"
   ]
  },
  {
   "cell_type": "code",
   "execution_count": 11,
   "id": "d40a3fc8",
   "metadata": {},
   "outputs": [
    {
     "data": {
      "text/plain": [
       "(1180, 6)"
      ]
     },
     "execution_count": 11,
     "metadata": {},
     "output_type": "execute_result"
    }
   ],
   "source": [
    "# 훈련셋 입력변수 행렬의 크기를 확인합니다.\n",
    "X_train.shape"
   ]
  },
  {
   "cell_type": "code",
   "execution_count": 12,
   "id": "d8aa3c8b",
   "metadata": {},
   "outputs": [
    {
     "data": {
      "text/plain": [
       "(507, 6)"
      ]
     },
     "execution_count": 12,
     "metadata": {},
     "output_type": "execute_result"
    }
   ],
   "source": [
    "# 검증셋 입력변수 행렬의 크기를 확인합니다.\n",
    "X_valid.shape"
   ]
  },
  {
   "cell_type": "code",
   "execution_count": 13,
   "id": "3c87e46b",
   "metadata": {},
   "outputs": [
    {
     "data": {
      "text/plain": [
       "admit\n",
       "Fail    0.688983\n",
       "Pass    0.311017\n",
       "Name: proportion, dtype: float64"
      ]
     },
     "execution_count": 13,
     "metadata": {},
     "output_type": "execute_result"
    }
   ],
   "source": [
    "# 훈련셋 목표변수의 범주별 상대도수를 확인합니다.\n",
    "y_train.value_counts(normalize = True)"
   ]
  },
  {
   "cell_type": "code",
   "execution_count": 14,
   "id": "4b005e9e",
   "metadata": {},
   "outputs": [
    {
     "data": {
      "text/plain": [
       "admit\n",
       "Fail    0.690335\n",
       "Pass    0.309665\n",
       "Name: proportion, dtype: float64"
      ]
     },
     "execution_count": 14,
     "metadata": {},
     "output_type": "execute_result"
    }
   ],
   "source": [
    "# 검증셋 목표변수의 범주별 상대도수를 확인합니다.\n",
    "y_valid.value_counts(normalize = True)"
   ]
  },
  {
   "cell_type": "markdown",
   "id": "cfb109fe",
   "metadata": {},
   "source": [
    "### 데이터 표준화"
   ]
  },
  {
   "cell_type": "code",
   "execution_count": 15,
   "id": "3bf909d9",
   "metadata": {},
   "outputs": [],
   "source": [
    "# 관련 라이브러리를 호출합니다.\n",
    "from sklearn.preprocessing import StandardScaler"
   ]
  },
  {
   "cell_type": "code",
   "execution_count": 16,
   "id": "4bf0ec06",
   "metadata": {},
   "outputs": [],
   "source": [
    "# 데이터 표준화 객체를 생성합니다.\n",
    "scaler = StandardScaler()"
   ]
  },
  {
   "cell_type": "code",
   "execution_count": 17,
   "id": "f2f8872c",
   "metadata": {},
   "outputs": [],
   "source": [
    "# 훈련셋 입력변수 행렬을 표준화합니다.\n",
    "X_train = scaler.fit_transform(X = X_train)"
   ]
  },
  {
   "cell_type": "code",
   "execution_count": 18,
   "id": "fe1e57e2",
   "metadata": {},
   "outputs": [],
   "source": [
    "# 검증셋 입력변수 행렬을 표준화합니다.\n",
    "X_valid = scaler.transform(X = X_valid)"
   ]
  },
  {
   "cell_type": "markdown",
   "id": "weekly-future",
   "metadata": {},
   "source": [
    "### 가중치 없는 분류모형 적합"
   ]
  },
  {
   "cell_type": "code",
   "execution_count": 19,
   "id": "f072e03e",
   "metadata": {},
   "outputs": [],
   "source": [
    "# 관련 라이브러리를 호출합니다.\n",
    "from sklearn.neighbors import KNeighborsClassifier"
   ]
  },
  {
   "cell_type": "code",
   "execution_count": 20,
   "id": "level-flooring",
   "metadata": {},
   "outputs": [],
   "source": [
    "# 가중치 없는 분류모형을 설정합니다.\n",
    "model = KNeighborsClassifier(\n",
    "    n_neighbors = 5, \n",
    "    weights = 'uniform', \n",
    "    metric = 'euclidean'\n",
    ")"
   ]
  },
  {
   "cell_type": "code",
   "execution_count": 21,
   "id": "governing-trick",
   "metadata": {},
   "outputs": [
    {
     "data": {
      "text/html": [
       "<style>#sk-container-id-1 {color: black;}#sk-container-id-1 pre{padding: 0;}#sk-container-id-1 div.sk-toggleable {background-color: white;}#sk-container-id-1 label.sk-toggleable__label {cursor: pointer;display: block;width: 100%;margin-bottom: 0;padding: 0.3em;box-sizing: border-box;text-align: center;}#sk-container-id-1 label.sk-toggleable__label-arrow:before {content: \"▸\";float: left;margin-right: 0.25em;color: #696969;}#sk-container-id-1 label.sk-toggleable__label-arrow:hover:before {color: black;}#sk-container-id-1 div.sk-estimator:hover label.sk-toggleable__label-arrow:before {color: black;}#sk-container-id-1 div.sk-toggleable__content {max-height: 0;max-width: 0;overflow: hidden;text-align: left;background-color: #f0f8ff;}#sk-container-id-1 div.sk-toggleable__content pre {margin: 0.2em;color: black;border-radius: 0.25em;background-color: #f0f8ff;}#sk-container-id-1 input.sk-toggleable__control:checked~div.sk-toggleable__content {max-height: 200px;max-width: 100%;overflow: auto;}#sk-container-id-1 input.sk-toggleable__control:checked~label.sk-toggleable__label-arrow:before {content: \"▾\";}#sk-container-id-1 div.sk-estimator input.sk-toggleable__control:checked~label.sk-toggleable__label {background-color: #d4ebff;}#sk-container-id-1 div.sk-label input.sk-toggleable__control:checked~label.sk-toggleable__label {background-color: #d4ebff;}#sk-container-id-1 input.sk-hidden--visually {border: 0;clip: rect(1px 1px 1px 1px);clip: rect(1px, 1px, 1px, 1px);height: 1px;margin: -1px;overflow: hidden;padding: 0;position: absolute;width: 1px;}#sk-container-id-1 div.sk-estimator {font-family: monospace;background-color: #f0f8ff;border: 1px dotted black;border-radius: 0.25em;box-sizing: border-box;margin-bottom: 0.5em;}#sk-container-id-1 div.sk-estimator:hover {background-color: #d4ebff;}#sk-container-id-1 div.sk-parallel-item::after {content: \"\";width: 100%;border-bottom: 1px solid gray;flex-grow: 1;}#sk-container-id-1 div.sk-label:hover label.sk-toggleable__label {background-color: #d4ebff;}#sk-container-id-1 div.sk-serial::before {content: \"\";position: absolute;border-left: 1px solid gray;box-sizing: border-box;top: 0;bottom: 0;left: 50%;z-index: 0;}#sk-container-id-1 div.sk-serial {display: flex;flex-direction: column;align-items: center;background-color: white;padding-right: 0.2em;padding-left: 0.2em;position: relative;}#sk-container-id-1 div.sk-item {position: relative;z-index: 1;}#sk-container-id-1 div.sk-parallel {display: flex;align-items: stretch;justify-content: center;background-color: white;position: relative;}#sk-container-id-1 div.sk-item::before, #sk-container-id-1 div.sk-parallel-item::before {content: \"\";position: absolute;border-left: 1px solid gray;box-sizing: border-box;top: 0;bottom: 0;left: 50%;z-index: -1;}#sk-container-id-1 div.sk-parallel-item {display: flex;flex-direction: column;z-index: 1;position: relative;background-color: white;}#sk-container-id-1 div.sk-parallel-item:first-child::after {align-self: flex-end;width: 50%;}#sk-container-id-1 div.sk-parallel-item:last-child::after {align-self: flex-start;width: 50%;}#sk-container-id-1 div.sk-parallel-item:only-child::after {width: 0;}#sk-container-id-1 div.sk-dashed-wrapped {border: 1px dashed gray;margin: 0 0.4em 0.5em 0.4em;box-sizing: border-box;padding-bottom: 0.4em;background-color: white;}#sk-container-id-1 div.sk-label label {font-family: monospace;font-weight: bold;display: inline-block;line-height: 1.2em;}#sk-container-id-1 div.sk-label-container {text-align: center;}#sk-container-id-1 div.sk-container {/* jupyter's `normalize.less` sets `[hidden] { display: none; }` but bootstrap.min.css set `[hidden] { display: none !important; }` so we also need the `!important` here to be able to override the default hidden behavior on the sphinx rendered scikit-learn.org. See: https://github.com/scikit-learn/scikit-learn/issues/21755 */display: inline-block !important;position: relative;}#sk-container-id-1 div.sk-text-repr-fallback {display: none;}</style><div id=\"sk-container-id-1\" class=\"sk-top-container\"><div class=\"sk-text-repr-fallback\"><pre>KNeighborsClassifier(metric=&#x27;euclidean&#x27;)</pre><b>In a Jupyter environment, please rerun this cell to show the HTML representation or trust the notebook. <br />On GitHub, the HTML representation is unable to render, please try loading this page with nbviewer.org.</b></div><div class=\"sk-container\" hidden><div class=\"sk-item\"><div class=\"sk-estimator sk-toggleable\"><input class=\"sk-toggleable__control sk-hidden--visually\" id=\"sk-estimator-id-1\" type=\"checkbox\" checked><label for=\"sk-estimator-id-1\" class=\"sk-toggleable__label sk-toggleable__label-arrow\">KNeighborsClassifier</label><div class=\"sk-toggleable__content\"><pre>KNeighborsClassifier(metric=&#x27;euclidean&#x27;)</pre></div></div></div></div></div>"
      ],
      "text/plain": [
       "KNeighborsClassifier(metric='euclidean')"
      ]
     },
     "execution_count": 21,
     "metadata": {},
     "output_type": "execute_result"
    }
   ],
   "source": [
    "# 훈련셋으로 가중치 없는 분류모형을 적합합니다.\n",
    "model.fit(X = X_train, y = y_train)"
   ]
  },
  {
   "cell_type": "code",
   "execution_count": 22,
   "id": "taken-valentine",
   "metadata": {},
   "outputs": [
    {
     "data": {
      "text/plain": [
       "{'algorithm': 'auto',\n",
       " 'leaf_size': 30,\n",
       " 'metric': 'euclidean',\n",
       " 'metric_params': None,\n",
       " 'n_jobs': None,\n",
       " 'n_neighbors': 5,\n",
       " 'p': 2,\n",
       " 'weights': 'uniform'}"
      ]
     },
     "execution_count": 22,
     "metadata": {},
     "output_type": "execute_result"
    }
   ],
   "source": [
    "# 가중치 없는 분류모형의 파라미터를 확인합니다.\n",
    "model.get_params()"
   ]
  },
  {
   "cell_type": "code",
   "execution_count": 23,
   "id": "a371e6c6",
   "metadata": {},
   "outputs": [
    {
     "data": {
      "text/plain": [
       "0.7779661016949152"
      ]
     },
     "execution_count": 23,
     "metadata": {},
     "output_type": "execute_result"
    }
   ],
   "source": [
    "# 가중치 없는 분류모형의 훈련셋 정확도를 확인합니다.\n",
    "model.score(X = X_train, y = y_train)"
   ]
  },
  {
   "cell_type": "code",
   "execution_count": 24,
   "id": "a759a9d3",
   "metadata": {},
   "outputs": [
    {
     "data": {
      "text/plain": [
       "0.6844181459566075"
      ]
     },
     "execution_count": 24,
     "metadata": {},
     "output_type": "execute_result"
    }
   ],
   "source": [
    "# 가중치 없는 분류모형의 검증셋 정확도를 확인합니다.\n",
    "model.score(X = X_valid, y = y_valid)"
   ]
  },
  {
   "cell_type": "markdown",
   "id": "numeric-semester",
   "metadata": {},
   "source": [
    "### 분류모형 성능 평가"
   ]
  },
  {
   "cell_type": "code",
   "execution_count": 25,
   "id": "c473b80b",
   "metadata": {},
   "outputs": [
    {
     "data": {
      "text/plain": [
       "array([[0.6, 0.4],\n",
       "       [0.8, 0.2],\n",
       "       [0.4, 0.6],\n",
       "       ...,\n",
       "       [1. , 0. ],\n",
       "       [0. , 1. ],\n",
       "       [0.2, 0.8]])"
      ]
     },
     "execution_count": 25,
     "metadata": {},
     "output_type": "execute_result"
    }
   ],
   "source": [
    "# 가중치 없는 분류모형의 검증셋 추정확률을 생성합니다.\n",
    "y_vprob1 = model.predict_proba(X = X_valid)"
   ]
  },
  {
   "cell_type": "code",
   "execution_count": 26,
   "id": "585dc3aa",
   "metadata": {},
   "outputs": [
    {
     "data": {
      "image/png": "[encoded data removed]",
      "text/plain": [
       "<Figure size 600x600 with 1 Axes>"
      ]
     },
     "metadata": {},
     "output_type": "display_data"
    }
   ],
   "source": [
    "# 가중치 없는 분류모형의 ROC 곡선을 그립니다.\n",
    "hds.stat.roc_curve(y_true = y_valid, y_prob = y_vprob1, color = 'red')"
   ]
  },
  {
   "cell_type": "code",
   "execution_count": 27,
   "id": "791ca8e8",
   "metadata": {
    "scrolled": true
   },
   "outputs": [
    {
     "data": {
      "text/plain": [
       "array(['Fail', 'Fail', 'Pass', 'Fail', 'Fail', 'Fail', 'Fail', 'Fail',\n",
       "       'Fail', 'Fail', 'Pass', 'Fail', 'Pass', 'Fail', 'Fail', 'Fail',\n",
       "       'Fail', 'Pass', 'Pass', 'Pass', 'Fail', 'Pass', 'Pass', 'Pass',\n",
       "       'Fail', 'Pass', 'Fail', 'Fail', 'Pass', 'Fail', 'Fail', 'Fail',\n",
       "       'Fail', 'Pass', 'Fail', 'Pass', 'Fail', 'Fail', 'Fail', 'Fail',\n",
       "       'Pass', 'Fail', 'Pass', 'Fail', 'Fail', 'Pass', 'Fail', 'Pass',\n",
       "       'Fail', 'Fail', 'Pass', 'Fail', 'Fail', 'Fail', 'Fail', 'Pass',\n",
       "       'Fail', 'Fail', 'Pass', 'Fail', 'Pass', 'Pass', 'Fail', 'Pass',\n",
       "       'Fail', 'Fail', 'Pass', 'Fail', 'Fail', 'Fail', 'Fail', 'Fail',\n",
       "       'Fail', 'Fail', 'Fail', 'Fail', 'Fail', 'Pass', 'Pass', 'Fail',\n",
       "       'Fail', 'Fail', 'Fail', 'Fail', 'Fail', 'Fail', 'Fail', 'Fail',\n",
       "       'Fail', 'Fail', 'Pass', 'Fail', 'Fail', 'Fail', 'Fail', 'Fail',\n",
       "       'Fail', 'Pass', 'Fail', 'Pass', 'Fail', 'Pass', 'Fail', 'Fail',\n",
       "       'Fail', 'Fail', 'Fail', 'Fail', 'Fail', 'Pass', 'Fail', 'Fail',\n",
       "       'Pass', 'Fail', 'Fail', 'Fail', 'Fail', 'Fail', 'Fail', 'Fail',\n",
       "       'Fail', 'Fail', 'Fail', 'Pass', 'Fail', 'Fail', 'Fail', 'Fail',\n",
       "       'Pass', 'Fail', 'Fail', 'Fail', 'Pass', 'Fail', 'Fail', 'Fail',\n",
       "       'Fail', 'Fail', 'Fail', 'Pass', 'Fail', 'Fail', 'Pass', 'Fail',\n",
       "       'Fail', 'Pass', 'Pass', 'Pass', 'Fail', 'Fail', 'Pass', 'Fail',\n",
       "       'Pass', 'Pass', 'Pass', 'Pass', 'Fail', 'Fail', 'Pass', 'Fail',\n",
       "       'Pass', 'Fail', 'Fail', 'Fail', 'Fail', 'Fail', 'Pass', 'Pass',\n",
       "       'Fail', 'Fail', 'Fail', 'Fail', 'Fail', 'Fail', 'Fail', 'Fail',\n",
       "       'Pass', 'Fail', 'Fail', 'Fail', 'Fail', 'Fail', 'Fail', 'Fail',\n",
       "       'Fail', 'Fail', 'Fail', 'Pass', 'Pass', 'Fail', 'Fail', 'Pass',\n",
       "       'Fail', 'Fail', 'Pass', 'Fail', 'Fail', 'Pass', 'Pass', 'Pass',\n",
       "       'Fail', 'Fail', 'Fail', 'Fail', 'Pass', 'Fail', 'Pass', 'Fail',\n",
       "       'Fail', 'Pass', 'Fail', 'Fail', 'Fail', 'Fail', 'Fail', 'Fail',\n",
       "       'Fail', 'Pass', 'Fail', 'Fail', 'Fail', 'Fail', 'Fail', 'Fail',\n",
       "       'Fail', 'Fail', 'Fail', 'Fail', 'Fail', 'Fail', 'Fail', 'Pass',\n",
       "       'Fail', 'Pass', 'Fail', 'Fail', 'Fail', 'Fail', 'Pass', 'Fail',\n",
       "       'Fail', 'Fail', 'Pass', 'Fail', 'Fail', 'Fail', 'Fail', 'Fail',\n",
       "       'Fail', 'Fail', 'Pass', 'Pass', 'Fail', 'Fail', 'Fail', 'Fail',\n",
       "       'Fail', 'Fail', 'Pass', 'Pass', 'Fail', 'Fail', 'Pass', 'Fail',\n",
       "       'Fail', 'Fail', 'Fail', 'Pass', 'Pass', 'Fail', 'Fail', 'Fail',\n",
       "       'Fail', 'Fail', 'Fail', 'Pass', 'Pass', 'Fail', 'Fail', 'Fail',\n",
       "       'Fail', 'Fail', 'Fail', 'Pass', 'Fail', 'Fail', 'Fail', 'Fail',\n",
       "       'Pass', 'Fail', 'Fail', 'Fail', 'Fail', 'Fail', 'Fail', 'Fail',\n",
       "       'Fail', 'Fail', 'Pass', 'Pass', 'Fail', 'Pass', 'Fail', 'Fail',\n",
       "       'Fail', 'Pass', 'Fail', 'Fail', 'Pass', 'Fail', 'Pass', 'Fail',\n",
       "       'Fail', 'Fail', 'Fail', 'Fail', 'Fail', 'Fail', 'Pass', 'Fail',\n",
       "       'Pass', 'Fail', 'Fail', 'Pass', 'Fail', 'Fail', 'Fail', 'Fail',\n",
       "       'Fail', 'Fail', 'Fail', 'Fail', 'Pass', 'Fail', 'Fail', 'Pass',\n",
       "       'Fail', 'Fail', 'Fail', 'Fail', 'Fail', 'Fail', 'Fail', 'Fail',\n",
       "       'Fail', 'Pass', 'Pass', 'Fail', 'Pass', 'Fail', 'Fail', 'Fail',\n",
       "       'Fail', 'Fail', 'Pass', 'Fail', 'Pass', 'Fail', 'Fail', 'Pass',\n",
       "       'Fail', 'Pass', 'Fail', 'Fail', 'Pass', 'Fail', 'Pass', 'Pass',\n",
       "       'Fail', 'Fail', 'Pass', 'Fail', 'Fail', 'Fail', 'Fail', 'Fail',\n",
       "       'Fail', 'Fail', 'Fail', 'Fail', 'Fail', 'Pass', 'Fail', 'Pass',\n",
       "       'Fail', 'Fail', 'Fail', 'Fail', 'Pass', 'Fail', 'Pass', 'Fail',\n",
       "       'Fail', 'Fail', 'Fail', 'Pass', 'Pass', 'Fail', 'Fail', 'Fail',\n",
       "       'Fail', 'Fail', 'Pass', 'Fail', 'Pass', 'Fail', 'Pass', 'Pass',\n",
       "       'Fail', 'Fail', 'Fail', 'Pass', 'Fail', 'Pass', 'Pass', 'Fail',\n",
       "       'Fail', 'Pass', 'Pass', 'Fail', 'Fail', 'Fail', 'Fail', 'Fail',\n",
       "       'Fail', 'Pass', 'Fail', 'Fail', 'Fail', 'Fail', 'Fail', 'Fail',\n",
       "       'Fail', 'Fail', 'Pass', 'Pass', 'Pass', 'Fail', 'Fail', 'Fail',\n",
       "       'Fail', 'Pass', 'Pass', 'Fail', 'Pass', 'Fail', 'Fail', 'Fail',\n",
       "       'Fail', 'Pass', 'Fail', 'Fail', 'Fail', 'Fail', 'Fail', 'Fail',\n",
       "       'Pass', 'Fail', 'Fail', 'Fail', 'Fail', 'Fail', 'Fail', 'Fail',\n",
       "       'Pass', 'Fail', 'Fail', 'Fail', 'Fail', 'Fail', 'Fail', 'Fail',\n",
       "       'Fail', 'Fail', 'Pass', 'Fail', 'Fail', 'Pass', 'Pass', 'Pass',\n",
       "       'Fail', 'Fail', 'Fail', 'Fail', 'Fail', 'Fail', 'Fail', 'Fail',\n",
       "       'Fail', 'Fail', 'Fail', 'Fail', 'Fail', 'Pass', 'Pass', 'Fail',\n",
       "       'Fail', 'Fail', 'Fail', 'Pass', 'Pass', 'Fail', 'Fail', 'Fail',\n",
       "       'Fail', 'Pass', 'Pass'], dtype=object)"
      ]
     },
     "execution_count": 27,
     "metadata": {},
     "output_type": "execute_result"
    }
   ],
   "source": [
    "# 가중치 없는 분류모형의 검증셋 추정값을 생성합니다.\n",
    "y_vpred1 = model.predict(X = X_valid)"
   ]
  },
  {
   "cell_type": "code",
   "execution_count": 28,
   "id": "interim-scanning",
   "metadata": {},
   "outputs": [
    {
     "name": "stdout",
     "output_type": "stream",
     "text": [
      "▶ Confusion Matrix\n"
     ]
    },
    {
     "data": {
      "text/html": [
       "<div>\n",
       "<style scoped>\n",
       "    .dataframe tbody tr th:only-of-type {\n",
       "        vertical-align: middle;\n",
       "    }\n",
       "\n",
       "    .dataframe tbody tr th {\n",
       "        vertical-align: top;\n",
       "    }\n",
       "\n",
       "    .dataframe thead th {\n",
       "        text-align: right;\n",
       "    }\n",
       "</style>\n",
       "<table border=\"1\" class=\"dataframe\">\n",
       "  <thead>\n",
       "    <tr style=\"text-align: right;\">\n",
       "      <th>Real</th>\n",
       "      <th>Fail</th>\n",
       "      <th>Pass</th>\n",
       "      <th>All</th>\n",
       "    </tr>\n",
       "    <tr>\n",
       "      <th>Pred</th>\n",
       "      <th></th>\n",
       "      <th></th>\n",
       "      <th></th>\n",
       "    </tr>\n",
       "  </thead>\n",
       "  <tbody>\n",
       "    <tr>\n",
       "      <th>Fail</th>\n",
       "      <td>282</td>\n",
       "      <td>92</td>\n",
       "      <td>374</td>\n",
       "    </tr>\n",
       "    <tr>\n",
       "      <th>Pass</th>\n",
       "      <td>68</td>\n",
       "      <td>65</td>\n",
       "      <td>133</td>\n",
       "    </tr>\n",
       "    <tr>\n",
       "      <th>All</th>\n",
       "      <td>350</td>\n",
       "      <td>157</td>\n",
       "      <td>507</td>\n",
       "    </tr>\n",
       "  </tbody>\n",
       "</table>\n",
       "</div>"
      ],
      "text/plain": [
       "Real  Fail  Pass  All\n",
       "Pred                 \n",
       "Fail   282    92  374\n",
       "Pass    68    65  133\n",
       "All    350   157  507"
      ]
     },
     "metadata": {},
     "output_type": "display_data"
    },
    {
     "name": "stdout",
     "output_type": "stream",
     "text": [
      "\n",
      "▶ Classification Report\n",
      "              precision    recall  f1-score   support\n",
      "\n",
      "        Fail     0.7540    0.8057    0.7790       350\n",
      "        Pass     0.4887    0.4140    0.4483       157\n",
      "\n",
      "    accuracy                         0.6844       507\n",
      "   macro avg     0.6214    0.6099    0.6136       507\n",
      "weighted avg     0.6719    0.6844    0.6766       507\n",
      "\n"
     ]
    }
   ],
   "source": [
    "# 가중치 없는 분류모형의 혼동행렬 리포트를 출력합니다.\n",
    "hds.stat.clfmetrics(y_true = y_valid, y_pred = y_vpred1)"
   ]
  },
  {
   "cell_type": "markdown",
   "id": "sixth-floor",
   "metadata": {},
   "source": [
    "### 가중치 있는 분류모형 적합"
   ]
  },
  {
   "cell_type": "code",
   "execution_count": 29,
   "id": "continent-choice",
   "metadata": {},
   "outputs": [
    {
     "data": {
      "text/html": [
       "<style>#sk-container-id-2 {color: black;}#sk-container-id-2 pre{padding: 0;}#sk-container-id-2 div.sk-toggleable {background-color: white;}#sk-container-id-2 label.sk-toggleable__label {cursor: pointer;display: block;width: 100%;margin-bottom: 0;padding: 0.3em;box-sizing: border-box;text-align: center;}#sk-container-id-2 label.sk-toggleable__label-arrow:before {content: \"▸\";float: left;margin-right: 0.25em;color: #696969;}#sk-container-id-2 label.sk-toggleable__label-arrow:hover:before {color: black;}#sk-container-id-2 div.sk-estimator:hover label.sk-toggleable__label-arrow:before {color: black;}#sk-container-id-2 div.sk-toggleable__content {max-height: 0;max-width: 0;overflow: hidden;text-align: left;background-color: #f0f8ff;}#sk-container-id-2 div.sk-toggleable__content pre {margin: 0.2em;color: black;border-radius: 0.25em;background-color: #f0f8ff;}#sk-container-id-2 input.sk-toggleable__control:checked~div.sk-toggleable__content {max-height: 200px;max-width: 100%;overflow: auto;}#sk-container-id-2 input.sk-toggleable__control:checked~label.sk-toggleable__label-arrow:before {content: \"▾\";}#sk-container-id-2 div.sk-estimator input.sk-toggleable__control:checked~label.sk-toggleable__label {background-color: #d4ebff;}#sk-container-id-2 div.sk-label input.sk-toggleable__control:checked~label.sk-toggleable__label {background-color: #d4ebff;}#sk-container-id-2 input.sk-hidden--visually {border: 0;clip: rect(1px 1px 1px 1px);clip: rect(1px, 1px, 1px, 1px);height: 1px;margin: -1px;overflow: hidden;padding: 0;position: absolute;width: 1px;}#sk-container-id-2 div.sk-estimator {font-family: monospace;background-color: #f0f8ff;border: 1px dotted black;border-radius: 0.25em;box-sizing: border-box;margin-bottom: 0.5em;}#sk-container-id-2 div.sk-estimator:hover {background-color: #d4ebff;}#sk-container-id-2 div.sk-parallel-item::after {content: \"\";width: 100%;border-bottom: 1px solid gray;flex-grow: 1;}#sk-container-id-2 div.sk-label:hover label.sk-toggleable__label {background-color: #d4ebff;}#sk-container-id-2 div.sk-serial::before {content: \"\";position: absolute;border-left: 1px solid gray;box-sizing: border-box;top: 0;bottom: 0;left: 50%;z-index: 0;}#sk-container-id-2 div.sk-serial {display: flex;flex-direction: column;align-items: center;background-color: white;padding-right: 0.2em;padding-left: 0.2em;position: relative;}#sk-container-id-2 div.sk-item {position: relative;z-index: 1;}#sk-container-id-2 div.sk-parallel {display: flex;align-items: stretch;justify-content: center;background-color: white;position: relative;}#sk-container-id-2 div.sk-item::before, #sk-container-id-2 div.sk-parallel-item::before {content: \"\";position: absolute;border-left: 1px solid gray;box-sizing: border-box;top: 0;bottom: 0;left: 50%;z-index: -1;}#sk-container-id-2 div.sk-parallel-item {display: flex;flex-direction: column;z-index: 1;position: relative;background-color: white;}#sk-container-id-2 div.sk-parallel-item:first-child::after {align-self: flex-end;width: 50%;}#sk-container-id-2 div.sk-parallel-item:last-child::after {align-self: flex-start;width: 50%;}#sk-container-id-2 div.sk-parallel-item:only-child::after {width: 0;}#sk-container-id-2 div.sk-dashed-wrapped {border: 1px dashed gray;margin: 0 0.4em 0.5em 0.4em;box-sizing: border-box;padding-bottom: 0.4em;background-color: white;}#sk-container-id-2 div.sk-label label {font-family: monospace;font-weight: bold;display: inline-block;line-height: 1.2em;}#sk-container-id-2 div.sk-label-container {text-align: center;}#sk-container-id-2 div.sk-container {/* jupyter's `normalize.less` sets `[hidden] { display: none; }` but bootstrap.min.css set `[hidden] { display: none !important; }` so we also need the `!important` here to be able to override the default hidden behavior on the sphinx rendered scikit-learn.org. See: https://github.com/scikit-learn/scikit-learn/issues/21755 */display: inline-block !important;position: relative;}#sk-container-id-2 div.sk-text-repr-fallback {display: none;}</style><div id=\"sk-container-id-2\" class=\"sk-top-container\"><div class=\"sk-text-repr-fallback\"><pre>KNeighborsClassifier(metric=&#x27;euclidean&#x27;, weights=&#x27;distance&#x27;)</pre><b>In a Jupyter environment, please rerun this cell to show the HTML representation or trust the notebook. <br />On GitHub, the HTML representation is unable to render, please try loading this page with nbviewer.org.</b></div><div class=\"sk-container\" hidden><div class=\"sk-item\"><div class=\"sk-estimator sk-toggleable\"><input class=\"sk-toggleable__control sk-hidden--visually\" id=\"sk-estimator-id-2\" type=\"checkbox\" checked><label for=\"sk-estimator-id-2\" class=\"sk-toggleable__label sk-toggleable__label-arrow\">KNeighborsClassifier</label><div class=\"sk-toggleable__content\"><pre>KNeighborsClassifier(metric=&#x27;euclidean&#x27;, weights=&#x27;distance&#x27;)</pre></div></div></div></div></div>"
      ],
      "text/plain": [
       "KNeighborsClassifier(metric='euclidean', weights='distance')"
      ]
     },
     "execution_count": 29,
     "metadata": {},
     "output_type": "execute_result"
    }
   ],
   "source": [
    "# 기존 모형에 가중치 유형을 설정합니다.\n",
    "model.set_params(weights = 'distance')"
   ]
  },
  {
   "cell_type": "code",
   "execution_count": 30,
   "id": "positive-oakland",
   "metadata": {},
   "outputs": [
    {
     "data": {
      "text/html": [
       "<style>#sk-container-id-3 {color: black;}#sk-container-id-3 pre{padding: 0;}#sk-container-id-3 div.sk-toggleable {background-color: white;}#sk-container-id-3 label.sk-toggleable__label {cursor: pointer;display: block;width: 100%;margin-bottom: 0;padding: 0.3em;box-sizing: border-box;text-align: center;}#sk-container-id-3 label.sk-toggleable__label-arrow:before {content: \"▸\";float: left;margin-right: 0.25em;color: #696969;}#sk-container-id-3 label.sk-toggleable__label-arrow:hover:before {color: black;}#sk-container-id-3 div.sk-estimator:hover label.sk-toggleable__label-arrow:before {color: black;}#sk-container-id-3 div.sk-toggleable__content {max-height: 0;max-width: 0;overflow: hidden;text-align: left;background-color: #f0f8ff;}#sk-container-id-3 div.sk-toggleable__content pre {margin: 0.2em;color: black;border-radius: 0.25em;background-color: #f0f8ff;}#sk-container-id-3 input.sk-toggleable__control:checked~div.sk-toggleable__content {max-height: 200px;max-width: 100%;overflow: auto;}#sk-container-id-3 input.sk-toggleable__control:checked~label.sk-toggleable__label-arrow:before {content: \"▾\";}#sk-container-id-3 div.sk-estimator input.sk-toggleable__control:checked~label.sk-toggleable__label {background-color: #d4ebff;}#sk-container-id-3 div.sk-label input.sk-toggleable__control:checked~label.sk-toggleable__label {background-color: #d4ebff;}#sk-container-id-3 input.sk-hidden--visually {border: 0;clip: rect(1px 1px 1px 1px);clip: rect(1px, 1px, 1px, 1px);height: 1px;margin: -1px;overflow: hidden;padding: 0;position: absolute;width: 1px;}#sk-container-id-3 div.sk-estimator {font-family: monospace;background-color: #f0f8ff;border: 1px dotted black;border-radius: 0.25em;box-sizing: border-box;margin-bottom: 0.5em;}#sk-container-id-3 div.sk-estimator:hover {background-color: #d4ebff;}#sk-container-id-3 div.sk-parallel-item::after {content: \"\";width: 100%;border-bottom: 1px solid gray;flex-grow: 1;}#sk-container-id-3 div.sk-label:hover label.sk-toggleable__label {background-color: #d4ebff;}#sk-container-id-3 div.sk-serial::before {content: \"\";position: absolute;border-left: 1px solid gray;box-sizing: border-box;top: 0;bottom: 0;left: 50%;z-index: 0;}#sk-container-id-3 div.sk-serial {display: flex;flex-direction: column;align-items: center;background-color: white;padding-right: 0.2em;padding-left: 0.2em;position: relative;}#sk-container-id-3 div.sk-item {position: relative;z-index: 1;}#sk-container-id-3 div.sk-parallel {display: flex;align-items: stretch;justify-content: center;background-color: white;position: relative;}#sk-container-id-3 div.sk-item::before, #sk-container-id-3 div.sk-parallel-item::before {content: \"\";position: absolute;border-left: 1px solid gray;box-sizing: border-box;top: 0;bottom: 0;left: 50%;z-index: -1;}#sk-container-id-3 div.sk-parallel-item {display: flex;flex-direction: column;z-index: 1;position: relative;background-color: white;}#sk-container-id-3 div.sk-parallel-item:first-child::after {align-self: flex-end;width: 50%;}#sk-container-id-3 div.sk-parallel-item:last-child::after {align-self: flex-start;width: 50%;}#sk-container-id-3 div.sk-parallel-item:only-child::after {width: 0;}#sk-container-id-3 div.sk-dashed-wrapped {border: 1px dashed gray;margin: 0 0.4em 0.5em 0.4em;box-sizing: border-box;padding-bottom: 0.4em;background-color: white;}#sk-container-id-3 div.sk-label label {font-family: monospace;font-weight: bold;display: inline-block;line-height: 1.2em;}#sk-container-id-3 div.sk-label-container {text-align: center;}#sk-container-id-3 div.sk-container {/* jupyter's `normalize.less` sets `[hidden] { display: none; }` but bootstrap.min.css set `[hidden] { display: none !important; }` so we also need the `!important` here to be able to override the default hidden behavior on the sphinx rendered scikit-learn.org. See: https://github.com/scikit-learn/scikit-learn/issues/21755 */display: inline-block !important;position: relative;}#sk-container-id-3 div.sk-text-repr-fallback {display: none;}</style><div id=\"sk-container-id-3\" class=\"sk-top-container\"><div class=\"sk-text-repr-fallback\"><pre>KNeighborsClassifier(metric=&#x27;euclidean&#x27;, weights=&#x27;distance&#x27;)</pre><b>In a Jupyter environment, please rerun this cell to show the HTML representation or trust the notebook. <br />On GitHub, the HTML representation is unable to render, please try loading this page with nbviewer.org.</b></div><div class=\"sk-container\" hidden><div class=\"sk-item\"><div class=\"sk-estimator sk-toggleable\"><input class=\"sk-toggleable__control sk-hidden--visually\" id=\"sk-estimator-id-3\" type=\"checkbox\" checked><label for=\"sk-estimator-id-3\" class=\"sk-toggleable__label sk-toggleable__label-arrow\">KNeighborsClassifier</label><div class=\"sk-toggleable__content\"><pre>KNeighborsClassifier(metric=&#x27;euclidean&#x27;, weights=&#x27;distance&#x27;)</pre></div></div></div></div></div>"
      ],
      "text/plain": [
       "KNeighborsClassifier(metric='euclidean', weights='distance')"
      ]
     },
     "execution_count": 30,
     "metadata": {},
     "output_type": "execute_result"
    }
   ],
   "source": [
    "# 훈련셋으로 가중치 있는 분류모형을 적합합니다.\n",
    "model.fit(X = X_train, y = y_train)"
   ]
  },
  {
   "cell_type": "code",
   "execution_count": 31,
   "id": "e4e9ca3e",
   "metadata": {},
   "outputs": [
    {
     "data": {
      "text/plain": [
       "0.8983050847457628"
      ]
     },
     "execution_count": 31,
     "metadata": {},
     "output_type": "execute_result"
    }
   ],
   "source": [
    "# 가중치 있는 분류모형의 훈련셋 정확도를 확인합니다.\n",
    "model.score(X = X_train, y = y_train)"
   ]
  },
  {
   "cell_type": "code",
   "execution_count": 32,
   "id": "6279ca56",
   "metadata": {},
   "outputs": [
    {
     "data": {
      "text/plain": [
       "0.7238658777120316"
      ]
     },
     "execution_count": 32,
     "metadata": {},
     "output_type": "execute_result"
    }
   ],
   "source": [
    "# 가중치 있는 분류모형의 검증셋 정확도를 확인합니다.\n",
    "model.score(X = X_valid, y = y_valid)"
   ]
  },
  {
   "cell_type": "markdown",
   "id": "a0778a52",
   "metadata": {},
   "source": [
    "### 분류모형 성능 평가"
   ]
  },
  {
   "cell_type": "code",
   "execution_count": 33,
   "id": "d18635fa",
   "metadata": {},
   "outputs": [],
   "source": [
    "# 가중치 있는 분류모형의 검증셋 추정확률을 생성합니다.\n",
    "y_vprob2 = model.predict_proba(X = X_valid)"
   ]
  },
  {
   "cell_type": "code",
   "execution_count": 34,
   "id": "aed501f2",
   "metadata": {},
   "outputs": [
    {
     "data": {
      "image/png": "[encoded data removed]",
      "text/plain": [
       "<Figure size 600x600 with 1 Axes>"
      ]
     },
     "metadata": {},
     "output_type": "display_data"
    }
   ],
   "source": [
    "# 가중치 있는 분류모형의 ROC 곡선을 그립니다.\n",
    "hds.stat.roc_curve(y_true = y_valid, y_prob = y_vprob2, color = 'red')"
   ]
  },
  {
   "cell_type": "code",
   "execution_count": 35,
   "id": "02034ddd",
   "metadata": {},
   "outputs": [],
   "source": [
    "# 가중치 있는 분류모형의 검증셋 추정값을 생성합니다.\n",
    "y_vpred2 = model.predict(X = X_valid)"
   ]
  },
  {
   "cell_type": "code",
   "execution_count": 36,
   "id": "6f20c24f",
   "metadata": {},
   "outputs": [
    {
     "name": "stdout",
     "output_type": "stream",
     "text": [
      "▶ Confusion Matrix\n"
     ]
    },
    {
     "data": {
      "text/html": [
       "<div>\n",
       "<style scoped>\n",
       "    .dataframe tbody tr th:only-of-type {\n",
       "        vertical-align: middle;\n",
       "    }\n",
       "\n",
       "    .dataframe tbody tr th {\n",
       "        vertical-align: top;\n",
       "    }\n",
       "\n",
       "    .dataframe thead th {\n",
       "        text-align: right;\n",
       "    }\n",
       "</style>\n",
       "<table border=\"1\" class=\"dataframe\">\n",
       "  <thead>\n",
       "    <tr style=\"text-align: right;\">\n",
       "      <th>Real</th>\n",
       "      <th>Fail</th>\n",
       "      <th>Pass</th>\n",
       "      <th>All</th>\n",
       "    </tr>\n",
       "    <tr>\n",
       "      <th>Pred</th>\n",
       "      <th></th>\n",
       "      <th></th>\n",
       "      <th></th>\n",
       "    </tr>\n",
       "  </thead>\n",
       "  <tbody>\n",
       "    <tr>\n",
       "      <th>Fail</th>\n",
       "      <td>296</td>\n",
       "      <td>86</td>\n",
       "      <td>382</td>\n",
       "    </tr>\n",
       "    <tr>\n",
       "      <th>Pass</th>\n",
       "      <td>54</td>\n",
       "      <td>71</td>\n",
       "      <td>125</td>\n",
       "    </tr>\n",
       "    <tr>\n",
       "      <th>All</th>\n",
       "      <td>350</td>\n",
       "      <td>157</td>\n",
       "      <td>507</td>\n",
       "    </tr>\n",
       "  </tbody>\n",
       "</table>\n",
       "</div>"
      ],
      "text/plain": [
       "Real  Fail  Pass  All\n",
       "Pred                 \n",
       "Fail   296    86  382\n",
       "Pass    54    71  125\n",
       "All    350   157  507"
      ]
     },
     "metadata": {},
     "output_type": "display_data"
    },
    {
     "name": "stdout",
     "output_type": "stream",
     "text": [
      "\n",
      "▶ Classification Report\n",
      "              precision    recall  f1-score   support\n",
      "\n",
      "        Fail     0.7749    0.8457    0.8087       350\n",
      "        Pass     0.5680    0.4522    0.5035       157\n",
      "\n",
      "    accuracy                         0.7239       507\n",
      "   macro avg     0.6714    0.6490    0.6561       507\n",
      "weighted avg     0.7108    0.7239    0.7142       507\n",
      "\n"
     ]
    }
   ],
   "source": [
    "# 가중치 있는 분류모형의 혼동행렬 리포트를 출력합니다.\n",
    "hds.stat.clfmetrics(y_true = y_valid, y_pred = y_vpred2)"
   ]
  },
  {
   "cell_type": "markdown",
   "id": "blank-process",
   "metadata": {},
   "source": [
    "### 최적의 이웃 개수(k) 탐색"
   ]
  },
  {
   "cell_type": "code",
   "execution_count": 37,
   "id": "fbf32468",
   "metadata": {},
   "outputs": [],
   "source": [
    "# k의 범위를 설정합니다.\n",
    "ks = range(1, 101)"
   ]
  },
  {
   "cell_type": "code",
   "execution_count": 38,
   "id": "bac5d72e",
   "metadata": {},
   "outputs": [],
   "source": [
    "# 검증셋 결정계수를 저장할 빈 리스트를 생성합니다.\n",
    "valid_score = []"
   ]
  },
  {
   "cell_type": "code",
   "execution_count": 39,
   "id": "f8075ea1",
   "metadata": {},
   "outputs": [],
   "source": [
    "# 반복문으로 k를 바꿔가면서 검증셋 결정계수를 리스트에 추가합니다.\n",
    "for k in ks:\n",
    "    model.set_params(n_neighbors = k)\n",
    "    model.fit(X = X_train, y = y_train)\n",
    "    valid_score.append(model.score(X = X_valid, y = y_valid))"
   ]
  },
  {
   "cell_type": "markdown",
   "id": "f2ae2a2d",
   "metadata": {},
   "source": [
    "### 최적의 이웃 개수(k) 탐색 결과 시각화"
   ]
  },
  {
   "cell_type": "code",
   "execution_count": 40,
   "id": "6312327b",
   "metadata": {},
   "outputs": [
    {
     "data": {
      "image/png": "[encoded data removed]",
      "text/plain": [
       "<Figure size 600x600 with 1 Axes>"
      ]
     },
     "metadata": {},
     "output_type": "display_data"
    }
   ],
   "source": [
    "# 검증셋 정확도로 선 그래프를 그립니다.\n",
    "sns.lineplot(x = ks, y = valid_score)\n",
    "plt.title(label = 'k에 따른 검증셋 정확도의 변화');"
   ]
  },
  {
   "cell_type": "code",
   "execution_count": 41,
   "id": "b9d1f33a",
   "metadata": {},
   "outputs": [
    {
     "data": {
      "text/plain": [
       "28"
      ]
     },
     "execution_count": 41,
     "metadata": {},
     "output_type": "execute_result"
    }
   ],
   "source": [
    "# 검증셋 정확도가 최댓값일 때의 k를 확인합니다.\n",
    "ks[np.argmax(a = valid_score)]"
   ]
  },
  {
   "cell_type": "code",
   "execution_count": 42,
   "id": "f9af7dbc",
   "metadata": {},
   "outputs": [
    {
     "data": {
      "text/plain": [
       "0.7514792899408284"
      ]
     },
     "execution_count": 42,
     "metadata": {},
     "output_type": "execute_result"
    }
   ],
   "source": [
    "# 검증셋 정확도의 최댓값을 확인합니다.\n",
    "np.max(a = valid_score)"
   ]
  },
  {
   "cell_type": "markdown",
   "id": "23df4a5e",
   "metadata": {},
   "source": [
    "## End of Document"
   ]
  }
 ],
 "metadata": {
  "kernelspec": {
   "display_name": "Python 3 (ipykernel)",
   "language": "python",
   "name": "python3"
  },
  "language_info": {
   "codemirror_mode": {
    "name": "ipython",
    "version": 3
   },
   "file_extension": ".py",
   "mimetype": "text/x-python",
   "name": "python",
   "nbconvert_exporter": "python",
   "pygments_lexer": "ipython3",
   "version": "3.11.3"
  },
  "toc": {
   "base_numbering": 1,
   "nav_menu": {},
   "number_sections": true,
   "sideBar": true,
   "skip_h1_title": false,
   "title_cell": "Table of Contents",
   "title_sidebar": "Contents",
   "toc_cell": false,
   "toc_position": {},
   "toc_section_display": true,
   "toc_window_display": true
  },
  "varInspector": {
   "cols": {
    "lenName": 16,
    "lenType": 16,
    "lenVar": 40
   },
   "kernels_config": {
    "python": {
     "delete_cmd_postfix": "",
     "delete_cmd_prefix": "del ",
     "library": "var_list.py",
     "varRefreshCmd": "print(var_dic_list())"
    },
    "r": {
     "delete_cmd_postfix": ") ",
     "delete_cmd_prefix": "rm(",
     "library": "var_list.r",
     "varRefreshCmd": "cat(var_dic_list()) "
    }
   },
   "oldHeight": 122.4,
   "position": {
    "height": "144.4px",
    "left": "654px",
    "right": "20px",
    "top": "120px",
    "width": "350px"
   },
   "types_to_exclude": [
    "module",
    "function",
    "builtin_function_or_method",
    "instance",
    "_Feature"
   ],
   "varInspector_section_display": "block",
   "window_display": false
  }
 },
 "nbformat": 4,
 "nbformat_minor": 5
}
