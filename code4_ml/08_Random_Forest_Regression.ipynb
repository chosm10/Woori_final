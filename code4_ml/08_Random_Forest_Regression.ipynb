{
 "cells": [
  {
   "cell_type": "markdown",
   "id": "118f4fd2",
   "metadata": {},
   "source": [
    "## 랜덤 포레스트 회귀모형"
   ]
  },
  {
   "cell_type": "markdown",
   "id": "34231d83",
   "metadata": {},
   "source": [
    "### 관련 라이브러리 호출"
   ]
  },
  {
   "cell_type": "code",
   "execution_count": 1,
   "id": "alien-controversy",
   "metadata": {
    "ExecuteTime": {
     "end_time": "2022-05-23T13:50:59.051555Z",
     "start_time": "2022-05-23T13:50:57.605861Z"
    }
   },
   "outputs": [],
   "source": [
    "# 관련 라이브러리를 호출합니다.\n",
    "import os\n",
    "import joblib\n",
    "import numpy as np\n",
    "import pandas as pd\n",
    "from GraphicSetting import *\n",
    "import hds_stats as hds"
   ]
  },
  {
   "cell_type": "markdown",
   "id": "severe-sauce",
   "metadata": {},
   "source": [
    "### 실습 데이터셋 준비"
   ]
  },
  {
   "cell_type": "code",
   "execution_count": 2,
   "id": "auburn-ministry",
   "metadata": {
    "ExecuteTime": {
     "end_time": "2022-05-23T13:50:59.063253Z",
     "start_time": "2022-05-23T13:50:59.053816Z"
    }
   },
   "outputs": [
    {
     "data": {
      "text/plain": [
       "'/Users/hdsceokevin/Documents/Lectures/Python/MachineLearning/code'"
      ]
     },
     "execution_count": 2,
     "metadata": {},
     "output_type": "execute_result"
    }
   ],
   "source": [
    "# 현재 작업 경로를 확인합니다.\n",
    "os.getcwd()"
   ]
  },
  {
   "cell_type": "code",
   "execution_count": 3,
   "id": "conceptual-stability",
   "metadata": {
    "ExecuteTime": {
     "end_time": "2022-05-23T13:50:59.068730Z",
     "start_time": "2022-05-23T13:50:59.065545Z"
    }
   },
   "outputs": [],
   "source": [
    "# data 폴더로 작업 경로를 변경합니다.\n",
    "os.chdir(path = '../data')"
   ]
  },
  {
   "cell_type": "code",
   "execution_count": 4,
   "id": "northern-music",
   "metadata": {
    "ExecuteTime": {
     "end_time": "2022-05-23T13:50:59.076446Z",
     "start_time": "2022-05-23T13:50:59.071975Z"
    }
   },
   "outputs": [
    {
     "data": {
      "text/plain": [
       "['Used_Cars_Price.z', 'Univ_Admit.z', 'Cereal_Dataset.z']"
      ]
     },
     "execution_count": 4,
     "metadata": {},
     "output_type": "execute_result"
    }
   ],
   "source": [
    "# 현재 작업 경로에 있는 폴더명과 파일명을 출력합니다.\n",
    "os.listdir()"
   ]
  },
  {
   "cell_type": "code",
   "execution_count": 5,
   "id": "spectacular-mauritius",
   "metadata": {
    "ExecuteTime": {
     "end_time": "2022-05-23T13:50:59.293089Z",
     "start_time": "2022-05-23T13:50:59.079081Z"
    }
   },
   "outputs": [],
   "source": [
    "# 회귀모형 실습 데이터셋을 호출합니다.\n",
    "df = joblib.load(filename = 'Used_Cars_Price.z')"
   ]
  },
  {
   "cell_type": "markdown",
   "id": "c399dfe7",
   "metadata": {},
   "source": [
    "### 입력변수 행렬과 목표변수 벡터로 분리"
   ]
  },
  {
   "cell_type": "code",
   "execution_count": 13,
   "id": "6aefbce8",
   "metadata": {},
   "outputs": [
    {
     "data": {
      "text/html": [
       "<div>\n",
       "<style scoped>\n",
       "    .dataframe tbody tr th:only-of-type {\n",
       "        vertical-align: middle;\n",
       "    }\n",
       "\n",
       "    .dataframe tbody tr th {\n",
       "        vertical-align: top;\n",
       "    }\n",
       "\n",
       "    .dataframe thead th {\n",
       "        text-align: right;\n",
       "    }\n",
       "</style>\n",
       "<table border=\"1\" class=\"dataframe\">\n",
       "  <thead>\n",
       "    <tr style=\"text-align: right;\">\n",
       "      <th></th>\n",
       "      <th>Price</th>\n",
       "      <th>Age</th>\n",
       "      <th>KM</th>\n",
       "      <th>HP</th>\n",
       "      <th>MetColor</th>\n",
       "      <th>Automatic</th>\n",
       "      <th>CC</th>\n",
       "      <th>Doors</th>\n",
       "      <th>Weight</th>\n",
       "      <th>FuelType_CNG</th>\n",
       "      <th>FuelType_Diesel</th>\n",
       "      <th>FuelType_Petrol</th>\n",
       "    </tr>\n",
       "  </thead>\n",
       "  <tbody>\n",
       "    <tr>\n",
       "      <th>0</th>\n",
       "      <td>13500</td>\n",
       "      <td>23</td>\n",
       "      <td>46986</td>\n",
       "      <td>90</td>\n",
       "      <td>1</td>\n",
       "      <td>0</td>\n",
       "      <td>2000</td>\n",
       "      <td>3</td>\n",
       "      <td>1165</td>\n",
       "      <td>False</td>\n",
       "      <td>True</td>\n",
       "      <td>False</td>\n",
       "    </tr>\n",
       "    <tr>\n",
       "      <th>1</th>\n",
       "      <td>13750</td>\n",
       "      <td>23</td>\n",
       "      <td>72937</td>\n",
       "      <td>90</td>\n",
       "      <td>1</td>\n",
       "      <td>0</td>\n",
       "      <td>2000</td>\n",
       "      <td>3</td>\n",
       "      <td>1165</td>\n",
       "      <td>False</td>\n",
       "      <td>True</td>\n",
       "      <td>False</td>\n",
       "    </tr>\n",
       "    <tr>\n",
       "      <th>2</th>\n",
       "      <td>13950</td>\n",
       "      <td>24</td>\n",
       "      <td>41711</td>\n",
       "      <td>90</td>\n",
       "      <td>1</td>\n",
       "      <td>0</td>\n",
       "      <td>2000</td>\n",
       "      <td>3</td>\n",
       "      <td>1165</td>\n",
       "      <td>False</td>\n",
       "      <td>True</td>\n",
       "      <td>False</td>\n",
       "    </tr>\n",
       "    <tr>\n",
       "      <th>3</th>\n",
       "      <td>14950</td>\n",
       "      <td>26</td>\n",
       "      <td>48000</td>\n",
       "      <td>90</td>\n",
       "      <td>0</td>\n",
       "      <td>0</td>\n",
       "      <td>2000</td>\n",
       "      <td>3</td>\n",
       "      <td>1165</td>\n",
       "      <td>False</td>\n",
       "      <td>True</td>\n",
       "      <td>False</td>\n",
       "    </tr>\n",
       "    <tr>\n",
       "      <th>4</th>\n",
       "      <td>13750</td>\n",
       "      <td>30</td>\n",
       "      <td>38500</td>\n",
       "      <td>90</td>\n",
       "      <td>0</td>\n",
       "      <td>0</td>\n",
       "      <td>2000</td>\n",
       "      <td>3</td>\n",
       "      <td>1170</td>\n",
       "      <td>False</td>\n",
       "      <td>True</td>\n",
       "      <td>False</td>\n",
       "    </tr>\n",
       "  </tbody>\n",
       "</table>\n",
       "</div>"
      ],
      "text/plain": [
       "   Price  Age     KM  HP  MetColor  Automatic    CC  Doors  Weight  \\\n",
       "0  13500   23  46986  90         1          0  2000      3    1165   \n",
       "1  13750   23  72937  90         1          0  2000      3    1165   \n",
       "2  13950   24  41711  90         1          0  2000      3    1165   \n",
       "3  14950   26  48000  90         0          0  2000      3    1165   \n",
       "4  13750   30  38500  90         0          0  2000      3    1170   \n",
       "\n",
       "   FuelType_CNG  FuelType_Diesel  FuelType_Petrol  \n",
       "0         False             True            False  \n",
       "1         False             True            False  \n",
       "2         False             True            False  \n",
       "3         False             True            False  \n",
       "4         False             True            False  "
      ]
     },
     "execution_count": 13,
     "metadata": {},
     "output_type": "execute_result"
    }
   ],
   "source": [
    "# df의 처음 5행을 출력합니다.\n",
    "df.head()"
   ]
  },
  {
   "cell_type": "code",
   "execution_count": 14,
   "id": "22832f10",
   "metadata": {},
   "outputs": [],
   "source": [
    "# 목표변수명을 yvar에 할당합니다.\n",
    "yvar = 'Price'"
   ]
  },
  {
   "cell_type": "code",
   "execution_count": 15,
   "id": "dd31a588",
   "metadata": {},
   "outputs": [],
   "source": [
    "# 데이터프레임을 입력변수 행렬과 목표변수 벡터로 분리합니다.\n",
    "X = df.drop(columns = yvar)\n",
    "y = df[yvar].copy()"
   ]
  },
  {
   "cell_type": "markdown",
   "id": "cfca6830",
   "metadata": {},
   "source": [
    "### 실습 데이터셋 분할"
   ]
  },
  {
   "cell_type": "code",
   "execution_count": 16,
   "id": "99e1fe02",
   "metadata": {},
   "outputs": [],
   "source": [
    "# 관련 라이브러리를 호출합니다.\n",
    "from sklearn.model_selection import train_test_split"
   ]
  },
  {
   "cell_type": "code",
   "execution_count": 17,
   "id": "65a8a9bb",
   "metadata": {},
   "outputs": [],
   "source": [
    "# 전체 데이터셋의 80%를 훈련셋, 20%를 검증셋으로 분할합니다.\n",
    "X_train, X_valid, y_train, y_valid = train_test_split(\n",
    "    X, y, test_size = 0.2, random_state = 0\n",
    ")"
   ]
  },
  {
   "cell_type": "markdown",
   "id": "3e924831",
   "metadata": {},
   "source": [
    "### 훈련셋과 검증셋 확인"
   ]
  },
  {
   "cell_type": "code",
   "execution_count": 18,
   "id": "df077f5d",
   "metadata": {},
   "outputs": [
    {
     "data": {
      "text/plain": [
       "(1014, 11)"
      ]
     },
     "execution_count": 18,
     "metadata": {},
     "output_type": "execute_result"
    }
   ],
   "source": [
    "# 훈련셋 입력변수 행렬의 크기를 확인합니다.\n",
    "X_train.shape"
   ]
  },
  {
   "cell_type": "code",
   "execution_count": 19,
   "id": "e44bb2bc",
   "metadata": {},
   "outputs": [
    {
     "data": {
      "text/plain": [
       "(254, 11)"
      ]
     },
     "execution_count": 19,
     "metadata": {},
     "output_type": "execute_result"
    }
   ],
   "source": [
    "# 검증셋 입력변수 행렬의 크기를 확인합니다.\n",
    "X_valid.shape"
   ]
  },
  {
   "cell_type": "code",
   "execution_count": 20,
   "id": "b5a29fce",
   "metadata": {},
   "outputs": [
    {
     "data": {
      "text/plain": [
       "9702.940828402367"
      ]
     },
     "execution_count": 20,
     "metadata": {},
     "output_type": "execute_result"
    }
   ],
   "source": [
    "# 훈련셋 목표변수의 평균을 확인합니다.\n",
    "y_train.mean()"
   ]
  },
  {
   "cell_type": "code",
   "execution_count": 21,
   "id": "9dd26a71",
   "metadata": {},
   "outputs": [
    {
     "data": {
      "text/plain": [
       "9672.53937007874"
      ]
     },
     "execution_count": 21,
     "metadata": {},
     "output_type": "execute_result"
    }
   ],
   "source": [
    "# 검증셋 목표변수의 평균을 확인합니다.\n",
    "y_valid.mean()"
   ]
  },
  {
   "cell_type": "markdown",
   "id": "representative-insulin",
   "metadata": {},
   "source": [
    "### 랜덤 포레스트 회귀모형 적합"
   ]
  },
  {
   "cell_type": "code",
   "execution_count": 22,
   "id": "f7c54bd7",
   "metadata": {},
   "outputs": [],
   "source": [
    "# 관련 라이브러리를 호출합니다.\n",
    "from sklearn.ensemble import RandomForestRegressor"
   ]
  },
  {
   "cell_type": "code",
   "execution_count": 23,
   "id": "going-measure",
   "metadata": {
    "ExecuteTime": {
     "end_time": "2022-05-23T13:50:59.348737Z",
     "start_time": "2022-05-23T13:50:59.345678Z"
    }
   },
   "outputs": [],
   "source": [
    "# 랜덤 포레스트 회귀모형을 설정합니다.\n",
    "model = RandomForestRegressor(\n",
    "    n_estimators = 50,\n",
    "    max_features = 3,\n",
    "    oob_score = True,\n",
    "    min_samples_split = 2,\n",
    "    min_samples_leaf = 1,\n",
    "    random_state = 0\n",
    ")"
   ]
  },
  {
   "cell_type": "code",
   "execution_count": 24,
   "id": "personal-prison",
   "metadata": {
    "ExecuteTime": {
     "end_time": "2022-05-23T13:50:59.505256Z",
     "start_time": "2022-05-23T13:50:59.351553Z"
    }
   },
   "outputs": [
    {
     "data": {
      "text/html": [
       "<style>#sk-container-id-1 {color: black;}#sk-container-id-1 pre{padding: 0;}#sk-container-id-1 div.sk-toggleable {background-color: white;}#sk-container-id-1 label.sk-toggleable__label {cursor: pointer;display: block;width: 100%;margin-bottom: 0;padding: 0.3em;box-sizing: border-box;text-align: center;}#sk-container-id-1 label.sk-toggleable__label-arrow:before {content: \"▸\";float: left;margin-right: 0.25em;color: #696969;}#sk-container-id-1 label.sk-toggleable__label-arrow:hover:before {color: black;}#sk-container-id-1 div.sk-estimator:hover label.sk-toggleable__label-arrow:before {color: black;}#sk-container-id-1 div.sk-toggleable__content {max-height: 0;max-width: 0;overflow: hidden;text-align: left;background-color: #f0f8ff;}#sk-container-id-1 div.sk-toggleable__content pre {margin: 0.2em;color: black;border-radius: 0.25em;background-color: #f0f8ff;}#sk-container-id-1 input.sk-toggleable__control:checked~div.sk-toggleable__content {max-height: 200px;max-width: 100%;overflow: auto;}#sk-container-id-1 input.sk-toggleable__control:checked~label.sk-toggleable__label-arrow:before {content: \"▾\";}#sk-container-id-1 div.sk-estimator input.sk-toggleable__control:checked~label.sk-toggleable__label {background-color: #d4ebff;}#sk-container-id-1 div.sk-label input.sk-toggleable__control:checked~label.sk-toggleable__label {background-color: #d4ebff;}#sk-container-id-1 input.sk-hidden--visually {border: 0;clip: rect(1px 1px 1px 1px);clip: rect(1px, 1px, 1px, 1px);height: 1px;margin: -1px;overflow: hidden;padding: 0;position: absolute;width: 1px;}#sk-container-id-1 div.sk-estimator {font-family: monospace;background-color: #f0f8ff;border: 1px dotted black;border-radius: 0.25em;box-sizing: border-box;margin-bottom: 0.5em;}#sk-container-id-1 div.sk-estimator:hover {background-color: #d4ebff;}#sk-container-id-1 div.sk-parallel-item::after {content: \"\";width: 100%;border-bottom: 1px solid gray;flex-grow: 1;}#sk-container-id-1 div.sk-label:hover label.sk-toggleable__label {background-color: #d4ebff;}#sk-container-id-1 div.sk-serial::before {content: \"\";position: absolute;border-left: 1px solid gray;box-sizing: border-box;top: 0;bottom: 0;left: 50%;z-index: 0;}#sk-container-id-1 div.sk-serial {display: flex;flex-direction: column;align-items: center;background-color: white;padding-right: 0.2em;padding-left: 0.2em;position: relative;}#sk-container-id-1 div.sk-item {position: relative;z-index: 1;}#sk-container-id-1 div.sk-parallel {display: flex;align-items: stretch;justify-content: center;background-color: white;position: relative;}#sk-container-id-1 div.sk-item::before, #sk-container-id-1 div.sk-parallel-item::before {content: \"\";position: absolute;border-left: 1px solid gray;box-sizing: border-box;top: 0;bottom: 0;left: 50%;z-index: -1;}#sk-container-id-1 div.sk-parallel-item {display: flex;flex-direction: column;z-index: 1;position: relative;background-color: white;}#sk-container-id-1 div.sk-parallel-item:first-child::after {align-self: flex-end;width: 50%;}#sk-container-id-1 div.sk-parallel-item:last-child::after {align-self: flex-start;width: 50%;}#sk-container-id-1 div.sk-parallel-item:only-child::after {width: 0;}#sk-container-id-1 div.sk-dashed-wrapped {border: 1px dashed gray;margin: 0 0.4em 0.5em 0.4em;box-sizing: border-box;padding-bottom: 0.4em;background-color: white;}#sk-container-id-1 div.sk-label label {font-family: monospace;font-weight: bold;display: inline-block;line-height: 1.2em;}#sk-container-id-1 div.sk-label-container {text-align: center;}#sk-container-id-1 div.sk-container {/* jupyter's `normalize.less` sets `[hidden] { display: none; }` but bootstrap.min.css set `[hidden] { display: none !important; }` so we also need the `!important` here to be able to override the default hidden behavior on the sphinx rendered scikit-learn.org. See: https://github.com/scikit-learn/scikit-learn/issues/21755 */display: inline-block !important;position: relative;}#sk-container-id-1 div.sk-text-repr-fallback {display: none;}</style><div id=\"sk-container-id-1\" class=\"sk-top-container\"><div class=\"sk-text-repr-fallback\"><pre>RandomForestRegressor(max_features=3, n_estimators=50, oob_score=True,\n",
       "                      random_state=0)</pre><b>In a Jupyter environment, please rerun this cell to show the HTML representation or trust the notebook. <br />On GitHub, the HTML representation is unable to render, please try loading this page with nbviewer.org.</b></div><div class=\"sk-container\" hidden><div class=\"sk-item\"><div class=\"sk-estimator sk-toggleable\"><input class=\"sk-toggleable__control sk-hidden--visually\" id=\"sk-estimator-id-1\" type=\"checkbox\" checked><label for=\"sk-estimator-id-1\" class=\"sk-toggleable__label sk-toggleable__label-arrow\">RandomForestRegressor</label><div class=\"sk-toggleable__content\"><pre>RandomForestRegressor(max_features=3, n_estimators=50, oob_score=True,\n",
       "                      random_state=0)</pre></div></div></div></div></div>"
      ],
      "text/plain": [
       "RandomForestRegressor(max_features=3, n_estimators=50, oob_score=True,\n",
       "                      random_state=0)"
      ]
     },
     "execution_count": 24,
     "metadata": {},
     "output_type": "execute_result"
    }
   ],
   "source": [
    "# 훈련셋으로 랜덤 포레스트 회귀모형을 적합합니다.\n",
    "model.fit(X = X_train, y = y_train)"
   ]
  },
  {
   "cell_type": "code",
   "execution_count": 25,
   "id": "b29d0a90",
   "metadata": {},
   "outputs": [
    {
     "data": {
      "text/plain": [
       "{'bootstrap': True,\n",
       " 'ccp_alpha': 0.0,\n",
       " 'criterion': 'squared_error',\n",
       " 'max_depth': None,\n",
       " 'max_features': 3,\n",
       " 'max_leaf_nodes': None,\n",
       " 'max_samples': None,\n",
       " 'min_impurity_decrease': 0.0,\n",
       " 'min_samples_leaf': 1,\n",
       " 'min_samples_split': 2,\n",
       " 'min_weight_fraction_leaf': 0.0,\n",
       " 'n_estimators': 50,\n",
       " 'n_jobs': None,\n",
       " 'oob_score': True,\n",
       " 'random_state': 0,\n",
       " 'verbose': 0,\n",
       " 'warm_start': False}"
      ]
     },
     "execution_count": 25,
     "metadata": {},
     "output_type": "execute_result"
    }
   ],
   "source": [
    "# 랜덤 포레스트 회귀모형의 파라미터를 확인합니다.\n",
    "model.get_params()"
   ]
  },
  {
   "cell_type": "code",
   "execution_count": 26,
   "id": "feb6901e",
   "metadata": {},
   "outputs": [
    {
     "data": {
      "text/plain": [
       "0.9620544591200016"
      ]
     },
     "execution_count": 26,
     "metadata": {},
     "output_type": "execute_result"
    }
   ],
   "source": [
    "# 랜덤 포레스트 회귀모형의 훈련셋 결정계수를 확인합니다.\n",
    "model.score(X = X_train, y = y_train)"
   ]
  },
  {
   "cell_type": "code",
   "execution_count": 27,
   "id": "radical-generic",
   "metadata": {
    "ExecuteTime": {
     "end_time": "2022-05-23T13:50:59.510724Z",
     "start_time": "2022-05-23T13:50:59.507053Z"
    }
   },
   "outputs": [
    {
     "data": {
      "text/plain": [
       "0.7534697282122839"
      ]
     },
     "execution_count": 27,
     "metadata": {},
     "output_type": "execute_result"
    }
   ],
   "source": [
    "# 랜덤 포레스트 회귀모형의 검증셋 결정계수를 확인합니다.\n",
    "model.score(X = X_valid, y = y_valid)"
   ]
  },
  {
   "cell_type": "markdown",
   "id": "spread-scientist",
   "metadata": {},
   "source": [
    "### OOB 결정계수 시각화"
   ]
  },
  {
   "cell_type": "code",
   "execution_count": 28,
   "id": "above-feeding",
   "metadata": {
    "ExecuteTime": {
     "end_time": "2022-05-23T13:50:59.533611Z",
     "start_time": "2022-05-23T13:50:59.531570Z"
    }
   },
   "outputs": [],
   "source": [
    "# 반복문을 실행할 나무모형 개수의 범위를 지정합니다.\n",
    "ntrees = np.arange(1, 51, 1)"
   ]
  },
  {
   "cell_type": "code",
   "execution_count": 29,
   "id": "14133eb5",
   "metadata": {},
   "outputs": [],
   "source": [
    "# OOB 정확도를 저장할 빈 리스트를 생성합니다.\n",
    "scores = []"
   ]
  },
  {
   "cell_type": "code",
   "execution_count": 30,
   "id": "unavailable-prior",
   "metadata": {
    "ExecuteTime": {
     "end_time": "2022-05-23T13:51:06.962109Z",
     "start_time": "2022-05-23T13:50:59.539633Z"
    },
    "scrolled": true
   },
   "outputs": [
    {
     "name": "stderr",
     "output_type": "stream",
     "text": [
      "/Users/hdsceokevin/ve311/lib/python3.11/site-packages/sklearn/ensemble/_forest.py:578: UserWarning: Some inputs do not have OOB scores. This probably means too few trees were used to compute any reliable OOB estimates.\n",
      "  warn(\n",
      "/Users/hdsceokevin/ve311/lib/python3.11/site-packages/sklearn/ensemble/_forest.py:578: UserWarning: Some inputs do not have OOB scores. This probably means too few trees were used to compute any reliable OOB estimates.\n",
      "  warn(\n",
      "/Users/hdsceokevin/ve311/lib/python3.11/site-packages/sklearn/ensemble/_forest.py:578: UserWarning: Some inputs do not have OOB scores. This probably means too few trees were used to compute any reliable OOB estimates.\n",
      "  warn(\n",
      "/Users/hdsceokevin/ve311/lib/python3.11/site-packages/sklearn/ensemble/_forest.py:578: UserWarning: Some inputs do not have OOB scores. This probably means too few trees were used to compute any reliable OOB estimates.\n",
      "  warn(\n",
      "/Users/hdsceokevin/ve311/lib/python3.11/site-packages/sklearn/ensemble/_forest.py:578: UserWarning: Some inputs do not have OOB scores. This probably means too few trees were used to compute any reliable OOB estimates.\n",
      "  warn(\n",
      "/Users/hdsceokevin/ve311/lib/python3.11/site-packages/sklearn/ensemble/_forest.py:578: UserWarning: Some inputs do not have OOB scores. This probably means too few trees were used to compute any reliable OOB estimates.\n",
      "  warn(\n",
      "/Users/hdsceokevin/ve311/lib/python3.11/site-packages/sklearn/ensemble/_forest.py:578: UserWarning: Some inputs do not have OOB scores. This probably means too few trees were used to compute any reliable OOB estimates.\n",
      "  warn(\n",
      "/Users/hdsceokevin/ve311/lib/python3.11/site-packages/sklearn/ensemble/_forest.py:578: UserWarning: Some inputs do not have OOB scores. This probably means too few trees were used to compute any reliable OOB estimates.\n",
      "  warn(\n",
      "/Users/hdsceokevin/ve311/lib/python3.11/site-packages/sklearn/ensemble/_forest.py:578: UserWarning: Some inputs do not have OOB scores. This probably means too few trees were used to compute any reliable OOB estimates.\n",
      "  warn(\n",
      "/Users/hdsceokevin/ve311/lib/python3.11/site-packages/sklearn/ensemble/_forest.py:578: UserWarning: Some inputs do not have OOB scores. This probably means too few trees were used to compute any reliable OOB estimates.\n",
      "  warn(\n",
      "/Users/hdsceokevin/ve311/lib/python3.11/site-packages/sklearn/ensemble/_forest.py:578: UserWarning: Some inputs do not have OOB scores. This probably means too few trees were used to compute any reliable OOB estimates.\n",
      "  warn(\n",
      "/Users/hdsceokevin/ve311/lib/python3.11/site-packages/sklearn/ensemble/_forest.py:578: UserWarning: Some inputs do not have OOB scores. This probably means too few trees were used to compute any reliable OOB estimates.\n",
      "  warn(\n",
      "/Users/hdsceokevin/ve311/lib/python3.11/site-packages/sklearn/ensemble/_forest.py:578: UserWarning: Some inputs do not have OOB scores. This probably means too few trees were used to compute any reliable OOB estimates.\n",
      "  warn(\n",
      "/Users/hdsceokevin/ve311/lib/python3.11/site-packages/sklearn/ensemble/_forest.py:578: UserWarning: Some inputs do not have OOB scores. This probably means too few trees were used to compute any reliable OOB estimates.\n",
      "  warn(\n",
      "/Users/hdsceokevin/ve311/lib/python3.11/site-packages/sklearn/ensemble/_forest.py:578: UserWarning: Some inputs do not have OOB scores. This probably means too few trees were used to compute any reliable OOB estimates.\n",
      "  warn(\n"
     ]
    }
   ],
   "source": [
    "# 반복문으로 나무모형 개수를 바꿔가면서 OOB 결정계수를 리스트에 추가합니다.\n",
    "for ntree in ntrees:\n",
    "    model.set_params(n_estimators = ntree)\n",
    "    model.fit(X = X_train, y = y_train)\n",
    "    scores.append(model.oob_score_)"
   ]
  },
  {
   "cell_type": "code",
   "execution_count": 31,
   "id": "f6f20966",
   "metadata": {
    "ExecuteTime": {
     "end_time": "2022-05-23T13:51:07.112188Z",
     "start_time": "2022-05-23T13:51:06.980534Z"
    }
   },
   "outputs": [
    {
     "data": {
      "image/png": "[encoded data removed]",
      "text/plain": [
       "<Figure size 600x600 with 1 Axes>"
      ]
     },
     "metadata": {},
     "output_type": "display_data"
    }
   ],
   "source": [
    "# OOB 결정계수로 선 그래프를 그립니다.\n",
    "sns.lineplot(x = ntrees, y = scores, color = 'red', lw = 1)\n",
    "plt.title(label = 'OOB 결정계수 변화')\n",
    "plt.xlabel(xlabel = '나무모형 개수')\n",
    "plt.ylabel(ylabel = 'OOB 결정계수');"
   ]
  },
  {
   "cell_type": "markdown",
   "id": "enhanced-hospital",
   "metadata": {},
   "source": [
    "### 랜덤 포레스트 회귀모형 특성 중요도"
   ]
  },
  {
   "cell_type": "code",
   "execution_count": 32,
   "id": "married-weekly",
   "metadata": {
    "ExecuteTime": {
     "end_time": "2022-05-23T13:51:07.244115Z",
     "start_time": "2022-05-23T13:51:07.113908Z"
    }
   },
   "outputs": [
    {
     "data": {
      "image/png": "[encoded data removed]",
      "text/plain": [
       "<Figure size 600x600 with 1 Axes>"
      ]
     },
     "metadata": {},
     "output_type": "display_data"
    }
   ],
   "source": [
    "# 랜덤 포레스트 회귀모형 특성 중요도로 막대 그래프를 그립니다.\n",
    "hds.ml.plot_feature_importance(model = model, pal = 'Spectral')"
   ]
  },
  {
   "cell_type": "markdown",
   "id": "numerical-alias",
   "metadata": {},
   "source": [
    "### 회귀모형 성능 평가"
   ]
  },
  {
   "cell_type": "code",
   "execution_count": 33,
   "id": "e8dfde49",
   "metadata": {
    "ExecuteTime": {
     "end_time": "2022-05-23T13:51:07.360043Z",
     "start_time": "2022-05-23T13:51:07.347136Z"
    }
   },
   "outputs": [],
   "source": [
    "# 랜덤 포레스트 회귀모형의 검증셋 추정값을 생성합니다.\n",
    "y_vpred1 = model.predict(X = X_valid)"
   ]
  },
  {
   "cell_type": "code",
   "execution_count": 34,
   "id": "7980a6cd",
   "metadata": {
    "ExecuteTime": {
     "end_time": "2022-05-23T13:51:07.389062Z",
     "start_time": "2022-05-23T13:51:07.380736Z"
    }
   },
   "outputs": [
    {
     "data": {
      "text/html": [
       "<div>\n",
       "<style scoped>\n",
       "    .dataframe tbody tr th:only-of-type {\n",
       "        vertical-align: middle;\n",
       "    }\n",
       "\n",
       "    .dataframe tbody tr th {\n",
       "        vertical-align: top;\n",
       "    }\n",
       "\n",
       "    .dataframe thead th {\n",
       "        text-align: right;\n",
       "    }\n",
       "</style>\n",
       "<table border=\"1\" class=\"dataframe\">\n",
       "  <thead>\n",
       "    <tr style=\"text-align: right;\">\n",
       "      <th></th>\n",
       "      <th>MSE</th>\n",
       "      <th>RMSE</th>\n",
       "      <th>MSLE</th>\n",
       "      <th>RMSLE</th>\n",
       "      <th>MAE</th>\n",
       "      <th>MAPE</th>\n",
       "    </tr>\n",
       "  </thead>\n",
       "  <tbody>\n",
       "    <tr>\n",
       "      <th>0</th>\n",
       "      <td>1.082295e+06</td>\n",
       "      <td>1040.334318</td>\n",
       "      <td>0.012493</td>\n",
       "      <td>0.111772</td>\n",
       "      <td>812.276299</td>\n",
       "      <td>0.088222</td>\n",
       "    </tr>\n",
       "  </tbody>\n",
       "</table>\n",
       "</div>"
      ],
      "text/plain": [
       "            MSE         RMSE      MSLE     RMSLE         MAE      MAPE\n",
       "0  1.082295e+06  1040.334318  0.012493  0.111772  812.276299  0.088222"
      ]
     },
     "execution_count": 34,
     "metadata": {},
     "output_type": "execute_result"
    }
   ],
   "source": [
    "# 랜덤 포레스트 회귀모형의 성능지표를 출력합니다.\n",
    "hds.stat.regmetrics(y_true = y_valid, y_pred = y_vpred1)"
   ]
  },
  {
   "cell_type": "markdown",
   "id": "f168ffb6",
   "metadata": {},
   "source": [
    "## End of Document"
   ]
  }
 ],
 "metadata": {
  "kernelspec": {
   "display_name": "Python 3 (ipykernel)",
   "language": "python",
   "name": "python3"
  },
  "language_info": {
   "codemirror_mode": {
    "name": "ipython",
    "version": 3
   },
   "file_extension": ".py",
   "mimetype": "text/x-python",
   "name": "python",
   "nbconvert_exporter": "python",
   "pygments_lexer": "ipython3",
   "version": "3.11.3"
  },
  "toc": {
   "base_numbering": 1,
   "nav_menu": {},
   "number_sections": false,
   "sideBar": true,
   "skip_h1_title": false,
   "title_cell": "Table of Contents",
   "title_sidebar": "Contents",
   "toc_cell": false,
   "toc_position": {},
   "toc_section_display": true,
   "toc_window_display": false
  },
  "varInspector": {
   "cols": {
    "lenName": 16,
    "lenType": 16,
    "lenVar": 40
   },
   "kernels_config": {
    "python": {
     "delete_cmd_postfix": "",
     "delete_cmd_prefix": "del ",
     "library": "var_list.py",
     "varRefreshCmd": "print(var_dic_list())"
    },
    "r": {
     "delete_cmd_postfix": ") ",
     "delete_cmd_prefix": "rm(",
     "library": "var_list.r",
     "varRefreshCmd": "cat(var_dic_list()) "
    }
   },
   "types_to_exclude": [
    "module",
    "function",
    "builtin_function_or_method",
    "instance",
    "_Feature"
   ],
   "window_display": false
  }
 },
 "nbformat": 4,
 "nbformat_minor": 5
}
