{
 "cells": [
  {
   "cell_type": "markdown",
   "id": "ed3feb80",
   "metadata": {},
   "source": [
    "## 그래디언트 부스팅 분류모형"
   ]
  },
  {
   "cell_type": "markdown",
   "id": "severe-sauce",
   "metadata": {},
   "source": [
    "### 관련 라이브러리 호출"
   ]
  },
  {
   "cell_type": "code",
   "execution_count": 1,
   "id": "alien-controversy",
   "metadata": {
    "ExecuteTime": {
     "end_time": "2022-05-23T13:52:40.423052Z",
     "start_time": "2022-05-23T13:52:39.006170Z"
    }
   },
   "outputs": [],
   "source": [
    "# 관련 라이브러리를 호출합니다.\n",
    "import os\n",
    "import joblib\n",
    "import numpy as np\n",
    "import pandas as pd\n",
    "from GraphicSetting import *\n",
    "import hds_stats as hds"
   ]
  },
  {
   "cell_type": "markdown",
   "id": "c39ee6ab",
   "metadata": {},
   "source": [
    "### 실습 데이터셋 준비"
   ]
  },
  {
   "cell_type": "code",
   "execution_count": 2,
   "id": "herbal-microwave",
   "metadata": {
    "ExecuteTime": {
     "end_time": "2022-05-23T13:52:40.433003Z",
     "start_time": "2022-05-23T13:52:40.425380Z"
    }
   },
   "outputs": [
    {
     "data": {
      "text/plain": [
       "'/Users/hdsceokevin/Documents/Lectures/Python/MachineLearning/code'"
      ]
     },
     "execution_count": 2,
     "metadata": {},
     "output_type": "execute_result"
    }
   ],
   "source": [
    "# 현재 작업 경로를 확인합니다.\n",
    "os.getcwd()"
   ]
  },
  {
   "cell_type": "code",
   "execution_count": 3,
   "id": "norman-brave",
   "metadata": {
    "ExecuteTime": {
     "end_time": "2022-05-23T13:52:40.439013Z",
     "start_time": "2022-05-23T13:52:40.434631Z"
    }
   },
   "outputs": [],
   "source": [
    "# data 폴더로 작업 경로를 변경합니다.\n",
    "os.chdir(path = '../data')"
   ]
  },
  {
   "cell_type": "code",
   "execution_count": 4,
   "id": "catholic-position",
   "metadata": {
    "ExecuteTime": {
     "end_time": "2022-05-23T13:52:40.447494Z",
     "start_time": "2022-05-23T13:52:40.442893Z"
    }
   },
   "outputs": [
    {
     "data": {
      "text/plain": [
       "['Used_Cars_Price.z', 'Univ_Admit.z', 'Cereal_Dataset.z']"
      ]
     },
     "execution_count": 4,
     "metadata": {},
     "output_type": "execute_result"
    }
   ],
   "source": [
    "# 현재 작업 경로에 있는 폴더명과 파일명을 출력합니다.\n",
    "os.listdir()"
   ]
  },
  {
   "cell_type": "code",
   "execution_count": 5,
   "id": "spectacular-mauritius",
   "metadata": {
    "ExecuteTime": {
     "end_time": "2022-05-23T13:52:41.260095Z",
     "start_time": "2022-05-23T13:52:40.450143Z"
    }
   },
   "outputs": [],
   "source": [
    "# 분류모형 실습 데이터셋을 호출합니다.\n",
    "df = joblib.load(filename = 'Univ_Admit.z')"
   ]
  },
  {
   "cell_type": "markdown",
   "id": "c6125332",
   "metadata": {},
   "source": [
    "### 입력변수 행렬과 목표변수 벡터로 분리"
   ]
  },
  {
   "cell_type": "code",
   "execution_count": 6,
   "id": "6853b9da",
   "metadata": {},
   "outputs": [
    {
     "data": {
      "text/html": [
       "<div>\n",
       "<style scoped>\n",
       "    .dataframe tbody tr th:only-of-type {\n",
       "        vertical-align: middle;\n",
       "    }\n",
       "\n",
       "    .dataframe tbody tr th {\n",
       "        vertical-align: top;\n",
       "    }\n",
       "\n",
       "    .dataframe thead th {\n",
       "        text-align: right;\n",
       "    }\n",
       "</style>\n",
       "<table border=\"1\" class=\"dataframe\">\n",
       "  <thead>\n",
       "    <tr style=\"text-align: right;\">\n",
       "      <th></th>\n",
       "      <th>admit</th>\n",
       "      <th>gre</th>\n",
       "      <th>gpa</th>\n",
       "      <th>rank_1</th>\n",
       "      <th>rank_2</th>\n",
       "      <th>rank_3</th>\n",
       "      <th>rank_4</th>\n",
       "    </tr>\n",
       "  </thead>\n",
       "  <tbody>\n",
       "    <tr>\n",
       "      <th>0</th>\n",
       "      <td>Fail</td>\n",
       "      <td>380.0</td>\n",
       "      <td>3.61</td>\n",
       "      <td>0</td>\n",
       "      <td>0</td>\n",
       "      <td>1</td>\n",
       "      <td>0</td>\n",
       "    </tr>\n",
       "    <tr>\n",
       "      <th>1</th>\n",
       "      <td>Pass</td>\n",
       "      <td>660.0</td>\n",
       "      <td>3.67</td>\n",
       "      <td>0</td>\n",
       "      <td>0</td>\n",
       "      <td>1</td>\n",
       "      <td>0</td>\n",
       "    </tr>\n",
       "    <tr>\n",
       "      <th>2</th>\n",
       "      <td>Pass</td>\n",
       "      <td>800.0</td>\n",
       "      <td>4.00</td>\n",
       "      <td>1</td>\n",
       "      <td>0</td>\n",
       "      <td>0</td>\n",
       "      <td>0</td>\n",
       "    </tr>\n",
       "    <tr>\n",
       "      <th>3</th>\n",
       "      <td>Pass</td>\n",
       "      <td>640.0</td>\n",
       "      <td>3.19</td>\n",
       "      <td>0</td>\n",
       "      <td>0</td>\n",
       "      <td>0</td>\n",
       "      <td>1</td>\n",
       "    </tr>\n",
       "    <tr>\n",
       "      <th>4</th>\n",
       "      <td>Fail</td>\n",
       "      <td>520.0</td>\n",
       "      <td>2.93</td>\n",
       "      <td>0</td>\n",
       "      <td>0</td>\n",
       "      <td>0</td>\n",
       "      <td>1</td>\n",
       "    </tr>\n",
       "  </tbody>\n",
       "</table>\n",
       "</div>"
      ],
      "text/plain": [
       "  admit    gre   gpa  rank_1  rank_2  rank_3  rank_4\n",
       "0  Fail  380.0  3.61       0       0       1       0\n",
       "1  Pass  660.0  3.67       0       0       1       0\n",
       "2  Pass  800.0  4.00       1       0       0       0\n",
       "3  Pass  640.0  3.19       0       0       0       1\n",
       "4  Fail  520.0  2.93       0       0       0       1"
      ]
     },
     "execution_count": 6,
     "metadata": {},
     "output_type": "execute_result"
    }
   ],
   "source": [
    "# df의 처음 5행을 출력합니다.\n",
    "df.head()"
   ]
  },
  {
   "cell_type": "code",
   "execution_count": 7,
   "id": "4f29d94f",
   "metadata": {},
   "outputs": [],
   "source": [
    "# 목표변수명을 yvar에 할당합니다.\n",
    "yvar = 'admit'"
   ]
  },
  {
   "cell_type": "code",
   "execution_count": 8,
   "id": "04bebf5f",
   "metadata": {},
   "outputs": [],
   "source": [
    "# 데이터프레임을 입력변수 행렬과 목표변수 벡터로 분리합니다.\n",
    "X = df.drop(columns = yvar)\n",
    "y = df[yvar].copy()"
   ]
  },
  {
   "cell_type": "markdown",
   "id": "9794931f",
   "metadata": {},
   "source": [
    "### 실습 데이터셋 분할"
   ]
  },
  {
   "cell_type": "code",
   "execution_count": 9,
   "id": "3ddae9d5",
   "metadata": {},
   "outputs": [],
   "source": [
    "# 관련 라이브러리를 호출합니다.\n",
    "from sklearn.model_selection import train_test_split"
   ]
  },
  {
   "cell_type": "code",
   "execution_count": 10,
   "id": "f4644b59",
   "metadata": {},
   "outputs": [],
   "source": [
    "# 전체 데이터셋의 70%를 훈련셋, 30%를 검증셋으로 분할합니다.\n",
    "X_train, X_valid, y_train, y_valid = train_test_split(\n",
    "    X, y, test_size = 0.3, random_state = 0, stratify = y\n",
    ")"
   ]
  },
  {
   "cell_type": "markdown",
   "id": "2d69eb65",
   "metadata": {},
   "source": [
    "### 훈련셋과 검증셋 확인"
   ]
  },
  {
   "cell_type": "code",
   "execution_count": 11,
   "id": "d40a3fc8",
   "metadata": {},
   "outputs": [
    {
     "data": {
      "text/plain": [
       "(1180, 6)"
      ]
     },
     "execution_count": 11,
     "metadata": {},
     "output_type": "execute_result"
    }
   ],
   "source": [
    "# 훈련셋 입력변수 행렬의 크기를 확인합니다.\n",
    "X_train.shape"
   ]
  },
  {
   "cell_type": "code",
   "execution_count": 12,
   "id": "d8aa3c8b",
   "metadata": {},
   "outputs": [
    {
     "data": {
      "text/plain": [
       "(507, 6)"
      ]
     },
     "execution_count": 12,
     "metadata": {},
     "output_type": "execute_result"
    }
   ],
   "source": [
    "# 검증셋 입력변수 행렬의 크기를 확인합니다.\n",
    "X_valid.shape"
   ]
  },
  {
   "cell_type": "code",
   "execution_count": 13,
   "id": "3c87e46b",
   "metadata": {},
   "outputs": [
    {
     "data": {
      "text/plain": [
       "admit\n",
       "Fail    0.688983\n",
       "Pass    0.311017\n",
       "Name: proportion, dtype: float64"
      ]
     },
     "execution_count": 13,
     "metadata": {},
     "output_type": "execute_result"
    }
   ],
   "source": [
    "# 훈련셋 목표변수의 범주별 상대도수를 확인합니다.\n",
    "y_train.value_counts(normalize = True)"
   ]
  },
  {
   "cell_type": "code",
   "execution_count": 14,
   "id": "4b005e9e",
   "metadata": {},
   "outputs": [
    {
     "data": {
      "text/plain": [
       "admit\n",
       "Fail    0.690335\n",
       "Pass    0.309665\n",
       "Name: proportion, dtype: float64"
      ]
     },
     "execution_count": 14,
     "metadata": {},
     "output_type": "execute_result"
    }
   ],
   "source": [
    "# 검증셋 목표변수의 범주별 상대도수를 확인합니다.\n",
    "y_valid.value_counts(normalize = True)"
   ]
  },
  {
   "cell_type": "markdown",
   "id": "increased-surge",
   "metadata": {},
   "source": [
    "### 그래디언트 부스팅 분류모형 적합"
   ]
  },
  {
   "cell_type": "code",
   "execution_count": 15,
   "id": "82c9fe6e",
   "metadata": {},
   "outputs": [],
   "source": [
    "# 관련 라이브러리를 호출합니다.\n",
    "from sklearn.ensemble import GradientBoostingClassifier"
   ]
  },
  {
   "cell_type": "code",
   "execution_count": 16,
   "id": "literary-timeline",
   "metadata": {
    "ExecuteTime": {
     "end_time": "2022-05-23T13:52:41.318421Z",
     "start_time": "2022-05-23T13:52:41.314902Z"
    }
   },
   "outputs": [],
   "source": [
    "# 그래디언트 부스팅 분류모형을 설정합니다.\n",
    "model = GradientBoostingClassifier(\n",
    "    learning_rate = 0.1,\n",
    "    n_estimators = 1000,\n",
    "    subsample = 0.5,\n",
    "    max_depth = 1,\n",
    "    min_samples_split = 20,\n",
    "    min_samples_leaf = 10,\n",
    "    random_state = 0\n",
    ")"
   ]
  },
  {
   "cell_type": "code",
   "execution_count": 17,
   "id": "pharmaceutical-campbell",
   "metadata": {
    "ExecuteTime": {
     "end_time": "2022-05-23T13:52:41.560502Z",
     "start_time": "2022-05-23T13:52:41.321378Z"
    }
   },
   "outputs": [
    {
     "data": {
      "text/html": [
       "<style>#sk-container-id-1 {color: black;}#sk-container-id-1 pre{padding: 0;}#sk-container-id-1 div.sk-toggleable {background-color: white;}#sk-container-id-1 label.sk-toggleable__label {cursor: pointer;display: block;width: 100%;margin-bottom: 0;padding: 0.3em;box-sizing: border-box;text-align: center;}#sk-container-id-1 label.sk-toggleable__label-arrow:before {content: \"▸\";float: left;margin-right: 0.25em;color: #696969;}#sk-container-id-1 label.sk-toggleable__label-arrow:hover:before {color: black;}#sk-container-id-1 div.sk-estimator:hover label.sk-toggleable__label-arrow:before {color: black;}#sk-container-id-1 div.sk-toggleable__content {max-height: 0;max-width: 0;overflow: hidden;text-align: left;background-color: #f0f8ff;}#sk-container-id-1 div.sk-toggleable__content pre {margin: 0.2em;color: black;border-radius: 0.25em;background-color: #f0f8ff;}#sk-container-id-1 input.sk-toggleable__control:checked~div.sk-toggleable__content {max-height: 200px;max-width: 100%;overflow: auto;}#sk-container-id-1 input.sk-toggleable__control:checked~label.sk-toggleable__label-arrow:before {content: \"▾\";}#sk-container-id-1 div.sk-estimator input.sk-toggleable__control:checked~label.sk-toggleable__label {background-color: #d4ebff;}#sk-container-id-1 div.sk-label input.sk-toggleable__control:checked~label.sk-toggleable__label {background-color: #d4ebff;}#sk-container-id-1 input.sk-hidden--visually {border: 0;clip: rect(1px 1px 1px 1px);clip: rect(1px, 1px, 1px, 1px);height: 1px;margin: -1px;overflow: hidden;padding: 0;position: absolute;width: 1px;}#sk-container-id-1 div.sk-estimator {font-family: monospace;background-color: #f0f8ff;border: 1px dotted black;border-radius: 0.25em;box-sizing: border-box;margin-bottom: 0.5em;}#sk-container-id-1 div.sk-estimator:hover {background-color: #d4ebff;}#sk-container-id-1 div.sk-parallel-item::after {content: \"\";width: 100%;border-bottom: 1px solid gray;flex-grow: 1;}#sk-container-id-1 div.sk-label:hover label.sk-toggleable__label {background-color: #d4ebff;}#sk-container-id-1 div.sk-serial::before {content: \"\";position: absolute;border-left: 1px solid gray;box-sizing: border-box;top: 0;bottom: 0;left: 50%;z-index: 0;}#sk-container-id-1 div.sk-serial {display: flex;flex-direction: column;align-items: center;background-color: white;padding-right: 0.2em;padding-left: 0.2em;position: relative;}#sk-container-id-1 div.sk-item {position: relative;z-index: 1;}#sk-container-id-1 div.sk-parallel {display: flex;align-items: stretch;justify-content: center;background-color: white;position: relative;}#sk-container-id-1 div.sk-item::before, #sk-container-id-1 div.sk-parallel-item::before {content: \"\";position: absolute;border-left: 1px solid gray;box-sizing: border-box;top: 0;bottom: 0;left: 50%;z-index: -1;}#sk-container-id-1 div.sk-parallel-item {display: flex;flex-direction: column;z-index: 1;position: relative;background-color: white;}#sk-container-id-1 div.sk-parallel-item:first-child::after {align-self: flex-end;width: 50%;}#sk-container-id-1 div.sk-parallel-item:last-child::after {align-self: flex-start;width: 50%;}#sk-container-id-1 div.sk-parallel-item:only-child::after {width: 0;}#sk-container-id-1 div.sk-dashed-wrapped {border: 1px dashed gray;margin: 0 0.4em 0.5em 0.4em;box-sizing: border-box;padding-bottom: 0.4em;background-color: white;}#sk-container-id-1 div.sk-label label {font-family: monospace;font-weight: bold;display: inline-block;line-height: 1.2em;}#sk-container-id-1 div.sk-label-container {text-align: center;}#sk-container-id-1 div.sk-container {/* jupyter's `normalize.less` sets `[hidden] { display: none; }` but bootstrap.min.css set `[hidden] { display: none !important; }` so we also need the `!important` here to be able to override the default hidden behavior on the sphinx rendered scikit-learn.org. See: https://github.com/scikit-learn/scikit-learn/issues/21755 */display: inline-block !important;position: relative;}#sk-container-id-1 div.sk-text-repr-fallback {display: none;}</style><div id=\"sk-container-id-1\" class=\"sk-top-container\"><div class=\"sk-text-repr-fallback\"><pre>GradientBoostingClassifier(max_depth=1, min_samples_leaf=10,\n",
       "                           min_samples_split=20, n_estimators=1000,\n",
       "                           random_state=0, subsample=0.5)</pre><b>In a Jupyter environment, please rerun this cell to show the HTML representation or trust the notebook. <br />On GitHub, the HTML representation is unable to render, please try loading this page with nbviewer.org.</b></div><div class=\"sk-container\" hidden><div class=\"sk-item\"><div class=\"sk-estimator sk-toggleable\"><input class=\"sk-toggleable__control sk-hidden--visually\" id=\"sk-estimator-id-1\" type=\"checkbox\" checked><label for=\"sk-estimator-id-1\" class=\"sk-toggleable__label sk-toggleable__label-arrow\">GradientBoostingClassifier</label><div class=\"sk-toggleable__content\"><pre>GradientBoostingClassifier(max_depth=1, min_samples_leaf=10,\n",
       "                           min_samples_split=20, n_estimators=1000,\n",
       "                           random_state=0, subsample=0.5)</pre></div></div></div></div></div>"
      ],
      "text/plain": [
       "GradientBoostingClassifier(max_depth=1, min_samples_leaf=10,\n",
       "                           min_samples_split=20, n_estimators=1000,\n",
       "                           random_state=0, subsample=0.5)"
      ]
     },
     "execution_count": 17,
     "metadata": {},
     "output_type": "execute_result"
    }
   ],
   "source": [
    "# 훈련셋으로 그래디언트 부스팅 분류모형을 적합합니다.\n",
    "model.fit(X = X_train, y = y_train)"
   ]
  },
  {
   "cell_type": "code",
   "execution_count": 18,
   "id": "91378e37",
   "metadata": {},
   "outputs": [
    {
     "data": {
      "text/plain": [
       "{'ccp_alpha': 0.0,\n",
       " 'criterion': 'friedman_mse',\n",
       " 'init': None,\n",
       " 'learning_rate': 0.1,\n",
       " 'loss': 'log_loss',\n",
       " 'max_depth': 1,\n",
       " 'max_features': None,\n",
       " 'max_leaf_nodes': None,\n",
       " 'min_impurity_decrease': 0.0,\n",
       " 'min_samples_leaf': 10,\n",
       " 'min_samples_split': 20,\n",
       " 'min_weight_fraction_leaf': 0.0,\n",
       " 'n_estimators': 1000,\n",
       " 'n_iter_no_change': None,\n",
       " 'random_state': 0,\n",
       " 'subsample': 0.5,\n",
       " 'tol': 0.0001,\n",
       " 'validation_fraction': 0.1,\n",
       " 'verbose': 0,\n",
       " 'warm_start': False}"
      ]
     },
     "execution_count": 18,
     "metadata": {},
     "output_type": "execute_result"
    }
   ],
   "source": [
    "# 그래디언트 부스팅 분류모형의 파라미터를 확인합니다.\n",
    "model.get_params()"
   ]
  },
  {
   "cell_type": "code",
   "execution_count": 19,
   "id": "ca8d9f78",
   "metadata": {},
   "outputs": [
    {
     "data": {
      "text/plain": [
       "0.761864406779661"
      ]
     },
     "execution_count": 19,
     "metadata": {},
     "output_type": "execute_result"
    }
   ],
   "source": [
    "# 그래디언트 부스팅 분류모형의 훈련셋 정확도를 확인합니다.\n",
    "model.score(X = X_train, y = y_train)"
   ]
  },
  {
   "cell_type": "code",
   "execution_count": 20,
   "id": "persistent-sally",
   "metadata": {
    "ExecuteTime": {
     "end_time": "2022-05-23T13:52:41.565479Z",
     "start_time": "2022-05-23T13:52:41.561998Z"
    }
   },
   "outputs": [
    {
     "data": {
      "text/plain": [
       "0.7238658777120316"
      ]
     },
     "execution_count": 20,
     "metadata": {},
     "output_type": "execute_result"
    }
   ],
   "source": [
    "# 그래디언트 부스팅 분류모형의 검증셋 정확도를 확인합니다.\n",
    "model.score(X = X_valid, y = y_valid)"
   ]
  },
  {
   "cell_type": "markdown",
   "id": "313f9c2e",
   "metadata": {},
   "source": [
    "### OOB 향상도 누적 합계 시각화"
   ]
  },
  {
   "cell_type": "code",
   "execution_count": 21,
   "id": "e8b1d767",
   "metadata": {},
   "outputs": [],
   "source": [
    "# OOB 향상도로 데이터프레임 oob를 생성합니다.\n",
    "oob = pd.DataFrame(data = model.oob_improvement_, columns = ['imp'])"
   ]
  },
  {
   "cell_type": "code",
   "execution_count": 22,
   "id": "80d9f305",
   "metadata": {},
   "outputs": [],
   "source": [
    "# OOB 향상도를 음수로 바꾸고 누적 합계를 계산합니다.\n",
    "oob['cumsum'] = np.cumsum(a = -oob['imp'])"
   ]
  },
  {
   "cell_type": "code",
   "execution_count": 23,
   "id": "8a53f9af",
   "metadata": {},
   "outputs": [
    {
     "data": {
      "text/html": [
       "<div>\n",
       "<style scoped>\n",
       "    .dataframe tbody tr th:only-of-type {\n",
       "        vertical-align: middle;\n",
       "    }\n",
       "\n",
       "    .dataframe tbody tr th {\n",
       "        vertical-align: top;\n",
       "    }\n",
       "\n",
       "    .dataframe thead th {\n",
       "        text-align: right;\n",
       "    }\n",
       "</style>\n",
       "<table border=\"1\" class=\"dataframe\">\n",
       "  <thead>\n",
       "    <tr style=\"text-align: right;\">\n",
       "      <th></th>\n",
       "      <th>imp</th>\n",
       "      <th>cumsum</th>\n",
       "    </tr>\n",
       "  </thead>\n",
       "  <tbody>\n",
       "    <tr>\n",
       "      <th>0</th>\n",
       "      <td>0.010684</td>\n",
       "      <td>-0.010684</td>\n",
       "    </tr>\n",
       "    <tr>\n",
       "      <th>1</th>\n",
       "      <td>-0.024234</td>\n",
       "      <td>0.013551</td>\n",
       "    </tr>\n",
       "    <tr>\n",
       "      <th>2</th>\n",
       "      <td>0.017530</td>\n",
       "      <td>-0.003979</td>\n",
       "    </tr>\n",
       "    <tr>\n",
       "      <th>3</th>\n",
       "      <td>0.052017</td>\n",
       "      <td>-0.055996</td>\n",
       "    </tr>\n",
       "    <tr>\n",
       "      <th>4</th>\n",
       "      <td>0.010790</td>\n",
       "      <td>-0.066786</td>\n",
       "    </tr>\n",
       "  </tbody>\n",
       "</table>\n",
       "</div>"
      ],
      "text/plain": [
       "        imp    cumsum\n",
       "0  0.010684 -0.010684\n",
       "1 -0.024234  0.013551\n",
       "2  0.017530 -0.003979\n",
       "3  0.052017 -0.055996\n",
       "4  0.010790 -0.066786"
      ]
     },
     "execution_count": 23,
     "metadata": {},
     "output_type": "execute_result"
    }
   ],
   "source": [
    "# oob의 처음 5행을 출력합니다.\n",
    "oob.head()"
   ]
  },
  {
   "cell_type": "code",
   "execution_count": 24,
   "id": "3175db8a",
   "metadata": {},
   "outputs": [
    {
     "data": {
      "image/png": "[encoded data removed]",
      "text/plain": [
       "<Figure size 600x600 with 1 Axes>"
      ]
     },
     "metadata": {},
     "output_type": "display_data"
    }
   ],
   "source": [
    "# OOB 향상도로 선 그래프를 그립니다.\n",
    "sns.lineplot(x = oob.index, y = oob['cumsum'], color = 'red', lw = 0.5)\n",
    "plt.title(label = '-OOB 향상도 누적')\n",
    "plt.xlabel(xlabel = '부스팅 횟수')\n",
    "plt.ylabel(ylabel = '-OOB 향상도');"
   ]
  },
  {
   "cell_type": "markdown",
   "id": "equal-cooling",
   "metadata": {},
   "source": [
    "### 그래디언트 부스팅 분류모형 특성 중요도"
   ]
  },
  {
   "cell_type": "code",
   "execution_count": 25,
   "id": "polar-prerequisite",
   "metadata": {
    "ExecuteTime": {
     "end_time": "2022-05-23T13:52:41.861812Z",
     "start_time": "2022-05-23T13:52:41.708405Z"
    }
   },
   "outputs": [
    {
     "data": {
      "image/png": "[encoded data removed]",
      "text/plain": [
       "<Figure size 600x600 with 1 Axes>"
      ]
     },
     "metadata": {},
     "output_type": "display_data"
    }
   ],
   "source": [
    "# 그래디언트 부스팅 분류모형 특성 중요도로 막대 그래프를 그립니다.\n",
    "hds.ml.plot_feature_importance(model = model, pal = 'Spectral')"
   ]
  },
  {
   "cell_type": "markdown",
   "id": "sunrise-peeing",
   "metadata": {},
   "source": [
    "### 분류모형 성능 평가"
   ]
  },
  {
   "cell_type": "code",
   "execution_count": 26,
   "id": "a559cf31",
   "metadata": {
    "ExecuteTime": {
     "end_time": "2022-05-23T13:52:41.902274Z",
     "start_time": "2022-05-23T13:52:41.897016Z"
    }
   },
   "outputs": [],
   "source": [
    "# 그래디언트 부스팅 분류모형의 검증셋 추정확률을 생성합니다.\n",
    "y_vprob1 = model.predict_proba(X = X_valid)"
   ]
  },
  {
   "cell_type": "code",
   "execution_count": 27,
   "id": "through-taylor",
   "metadata": {
    "ExecuteTime": {
     "end_time": "2022-05-23T13:52:42.043426Z",
     "start_time": "2022-05-23T13:52:41.925402Z"
    }
   },
   "outputs": [
    {
     "data": {
      "image/png": "[encoded data removed]",
      "text/plain": [
       "<Figure size 600x600 with 1 Axes>"
      ]
     },
     "metadata": {},
     "output_type": "display_data"
    }
   ],
   "source": [
    "# 그래디언트 부스팅 분류모형의 ROC 곡선을 그립니다.\n",
    "hds.stat.roc_curve(y_true = y_valid, y_prob = y_vprob1, color = 'red')"
   ]
  },
  {
   "cell_type": "code",
   "execution_count": 28,
   "id": "e8dfde49",
   "metadata": {
    "ExecuteTime": {
     "end_time": "2022-05-23T13:52:41.912353Z",
     "start_time": "2022-05-23T13:52:41.907070Z"
    }
   },
   "outputs": [],
   "source": [
    "# 그래디언트 부스팅 분류모형의 검증셋 추정값을 생성합니다.\n",
    "y_vpred1 = model.predict(X = X_valid)"
   ]
  },
  {
   "cell_type": "code",
   "execution_count": 29,
   "id": "interior-texas",
   "metadata": {
    "ExecuteTime": {
     "end_time": "2022-05-23T13:52:42.166108Z",
     "start_time": "2022-05-23T13:52:42.142759Z"
    }
   },
   "outputs": [
    {
     "name": "stdout",
     "output_type": "stream",
     "text": [
      "▶ Confusion Matrix\n"
     ]
    },
    {
     "data": {
      "text/html": [
       "<div>\n",
       "<style scoped>\n",
       "    .dataframe tbody tr th:only-of-type {\n",
       "        vertical-align: middle;\n",
       "    }\n",
       "\n",
       "    .dataframe tbody tr th {\n",
       "        vertical-align: top;\n",
       "    }\n",
       "\n",
       "    .dataframe thead th {\n",
       "        text-align: right;\n",
       "    }\n",
       "</style>\n",
       "<table border=\"1\" class=\"dataframe\">\n",
       "  <thead>\n",
       "    <tr style=\"text-align: right;\">\n",
       "      <th>Real</th>\n",
       "      <th>Fail</th>\n",
       "      <th>Pass</th>\n",
       "      <th>All</th>\n",
       "    </tr>\n",
       "    <tr>\n",
       "      <th>Pred</th>\n",
       "      <th></th>\n",
       "      <th></th>\n",
       "      <th></th>\n",
       "    </tr>\n",
       "  </thead>\n",
       "  <tbody>\n",
       "    <tr>\n",
       "      <th>Fail</th>\n",
       "      <td>316</td>\n",
       "      <td>106</td>\n",
       "      <td>422</td>\n",
       "    </tr>\n",
       "    <tr>\n",
       "      <th>Pass</th>\n",
       "      <td>34</td>\n",
       "      <td>51</td>\n",
       "      <td>85</td>\n",
       "    </tr>\n",
       "    <tr>\n",
       "      <th>All</th>\n",
       "      <td>350</td>\n",
       "      <td>157</td>\n",
       "      <td>507</td>\n",
       "    </tr>\n",
       "  </tbody>\n",
       "</table>\n",
       "</div>"
      ],
      "text/plain": [
       "Real  Fail  Pass  All\n",
       "Pred                 \n",
       "Fail   316   106  422\n",
       "Pass    34    51   85\n",
       "All    350   157  507"
      ]
     },
     "metadata": {},
     "output_type": "display_data"
    },
    {
     "name": "stdout",
     "output_type": "stream",
     "text": [
      "\n",
      "▶ Classification Report\n",
      "              precision    recall  f1-score   support\n",
      "\n",
      "        Fail     0.7488    0.9029    0.8187       350\n",
      "        Pass     0.6000    0.3248    0.4215       157\n",
      "\n",
      "    accuracy                         0.7239       507\n",
      "   macro avg     0.6744    0.6138    0.6201       507\n",
      "weighted avg     0.7027    0.7239    0.6957       507\n",
      "\n"
     ]
    }
   ],
   "source": [
    "# 그래디언트 부스팅 분류모형의 혼동행렬 리포트를 출력합니다.\n",
    "hds.stat.clfmetrics(y_true = y_valid, y_pred = y_vpred1)"
   ]
  },
  {
   "cell_type": "markdown",
   "id": "8e1f4d7f",
   "metadata": {},
   "source": [
    "## End of Document"
   ]
  }
 ],
 "metadata": {
  "kernelspec": {
   "display_name": "Python 3 (ipykernel)",
   "language": "python",
   "name": "python3"
  },
  "language_info": {
   "codemirror_mode": {
    "name": "ipython",
    "version": 3
   },
   "file_extension": ".py",
   "mimetype": "text/x-python",
   "name": "python",
   "nbconvert_exporter": "python",
   "pygments_lexer": "ipython3",
   "version": "3.11.3"
  },
  "toc": {
   "base_numbering": 1,
   "nav_menu": {},
   "number_sections": false,
   "sideBar": true,
   "skip_h1_title": false,
   "title_cell": "Table of Contents",
   "title_sidebar": "Contents",
   "toc_cell": false,
   "toc_position": {},
   "toc_section_display": true,
   "toc_window_display": false
  },
  "varInspector": {
   "cols": {
    "lenName": 16,
    "lenType": 16,
    "lenVar": 40
   },
   "kernels_config": {
    "python": {
     "delete_cmd_postfix": "",
     "delete_cmd_prefix": "del ",
     "library": "var_list.py",
     "varRefreshCmd": "print(var_dic_list())"
    },
    "r": {
     "delete_cmd_postfix": ") ",
     "delete_cmd_prefix": "rm(",
     "library": "var_list.r",
     "varRefreshCmd": "cat(var_dic_list()) "
    }
   },
   "types_to_exclude": [
    "module",
    "function",
    "builtin_function_or_method",
    "instance",
    "_Feature"
   ],
   "window_display": false
  }
 },
 "nbformat": 4,
 "nbformat_minor": 5
}
