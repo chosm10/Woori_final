{
 "cells": [
  {
   "cell_type": "markdown",
   "id": "1dccc0c2",
   "metadata": {},
   "source": [
    "## 다양한 거리 계산"
   ]
  },
  {
   "cell_type": "markdown",
   "id": "changing-conditioning",
   "metadata": {},
   "source": [
    "### 실습 데이터셋 준비"
   ]
  },
  {
   "cell_type": "code",
   "execution_count": 1,
   "id": "blind-curtis",
   "metadata": {
    "ExecuteTime": {
     "end_time": "2022-05-23T13:57:46.911824Z",
     "start_time": "2022-05-23T13:57:46.654772Z"
    }
   },
   "outputs": [],
   "source": [
    "# 관련 라이브러리를 호출합니다.\n",
    "import pandas as pd"
   ]
  },
  {
   "cell_type": "code",
   "execution_count": 3,
   "id": "painted-millennium",
   "metadata": {
    "ExecuteTime": {
     "end_time": "2022-05-23T13:57:46.918791Z",
     "start_time": "2022-05-23T13:57:46.914710Z"
    }
   },
   "outputs": [
    {
     "data": {
      "text/html": [
       "<div>\n",
       "<style scoped>\n",
       "    .dataframe tbody tr th:only-of-type {\n",
       "        vertical-align: middle;\n",
       "    }\n",
       "\n",
       "    .dataframe tbody tr th {\n",
       "        vertical-align: top;\n",
       "    }\n",
       "\n",
       "    .dataframe thead th {\n",
       "        text-align: right;\n",
       "    }\n",
       "</style>\n",
       "<table border=\"1\" class=\"dataframe\">\n",
       "  <thead>\n",
       "    <tr style=\"text-align: right;\">\n",
       "      <th></th>\n",
       "      <th>x</th>\n",
       "      <th>y</th>\n",
       "    </tr>\n",
       "  </thead>\n",
       "  <tbody>\n",
       "    <tr>\n",
       "      <th>A</th>\n",
       "      <td>1</td>\n",
       "      <td>1</td>\n",
       "    </tr>\n",
       "    <tr>\n",
       "      <th>B</th>\n",
       "      <td>4</td>\n",
       "      <td>5</td>\n",
       "    </tr>\n",
       "    <tr>\n",
       "      <th>C</th>\n",
       "      <td>3</td>\n",
       "      <td>2</td>\n",
       "    </tr>\n",
       "  </tbody>\n",
       "</table>\n",
       "</div>"
      ],
      "text/plain": [
       "   x  y\n",
       "A  1  1\n",
       "B  4  5\n",
       "C  3  2"
      ]
     },
     "execution_count": 3,
     "metadata": {},
     "output_type": "execute_result"
    }
   ],
   "source": [
    "# 실습 데이터셋을 생성합니다.\n",
    "df = pd.DataFrame(data = [[1, 1], [4, 5], [3, 2]], \n",
    "                  index = ['A', 'B', 'C'], \n",
    "                  columns = ['x', 'y'])\n",
    "\n",
    "df"
   ]
  },
  {
   "cell_type": "markdown",
   "id": "adverse-pride",
   "metadata": {},
   "source": [
    "### 거리 계산 관련 함수"
   ]
  },
  {
   "cell_type": "code",
   "execution_count": 4,
   "id": "5447cc0c",
   "metadata": {},
   "outputs": [],
   "source": [
    "# 관련 라이브러리를 호출합니다.\n",
    "from sklearn.metrics import DistanceMetric"
   ]
  },
  {
   "cell_type": "code",
   "execution_count": 5,
   "id": "twelve-annual",
   "metadata": {
    "ExecuteTime": {
     "end_time": "2022-05-23T13:57:47.289617Z",
     "start_time": "2022-05-23T13:57:47.286705Z"
    }
   },
   "outputs": [
    {
     "data": {
      "text/plain": [
       "array([[0., 7., 3.],\n",
       "       [7., 0., 4.],\n",
       "       [3., 4., 0.]])"
      ]
     },
     "execution_count": 5,
     "metadata": {},
     "output_type": "execute_result"
    }
   ],
   "source": [
    "# 맨하탄 거리를 계산합니다.\n",
    "DistanceMetric.get_metric(metric = 'manhattan').pairwise(X = df)"
   ]
  },
  {
   "cell_type": "code",
   "execution_count": 6,
   "id": "f583788f",
   "metadata": {},
   "outputs": [
    {
     "data": {
      "text/plain": [
       "array([[0.        , 5.        , 2.23606798],\n",
       "       [5.        , 0.        , 3.16227766],\n",
       "       [2.23606798, 3.16227766, 0.        ]])"
      ]
     },
     "execution_count": 6,
     "metadata": {},
     "output_type": "execute_result"
    }
   ],
   "source": [
    "# 유클리드 거리를 계산합니다.\n",
    "DistanceMetric.get_metric(metric = 'euclidean').pairwise(X = df)"
   ]
  },
  {
   "cell_type": "code",
   "execution_count": 7,
   "id": "e9c95a31",
   "metadata": {},
   "outputs": [
    {
     "data": {
      "text/plain": [
       "array([[0., 4., 2.],\n",
       "       [4., 0., 3.],\n",
       "       [2., 3., 0.]])"
      ]
     },
     "execution_count": 7,
     "metadata": {},
     "output_type": "execute_result"
    }
   ],
   "source": [
    "# 맥시멈 거리를 계산합니다.\n",
    "DistanceMetric.get_metric(metric = 'chebyshev').pairwise(X = df)"
   ]
  },
  {
   "cell_type": "code",
   "execution_count": 9,
   "id": "ba36d1fe",
   "metadata": {},
   "outputs": [
    {
     "data": {
      "text/plain": [
       "array([[0.        , 5.        , 2.23606798],\n",
       "       [5.        , 0.        , 3.16227766],\n",
       "       [2.23606798, 3.16227766, 0.        ]])"
      ]
     },
     "execution_count": 9,
     "metadata": {},
     "output_type": "execute_result"
    }
   ],
   "source": [
    "# 민코프스키 거리로 유클리드 거리를 계산합니다.\n",
    "DistanceMetric.get_metric(metric = 'minkowski', p = 2).pairwise(X = df)"
   ]
  },
  {
   "cell_type": "markdown",
   "id": "943c5dab",
   "metadata": {},
   "source": [
    "## End of Document"
   ]
  }
 ],
 "metadata": {
  "kernelspec": {
   "display_name": "Python 3 (ipykernel)",
   "language": "python",
   "name": "python3"
  },
  "language_info": {
   "codemirror_mode": {
    "name": "ipython",
    "version": 3
   },
   "file_extension": ".py",
   "mimetype": "text/x-python",
   "name": "python",
   "nbconvert_exporter": "python",
   "pygments_lexer": "ipython3",
   "version": "3.11.3"
  },
  "toc": {
   "base_numbering": 1,
   "nav_menu": {},
   "number_sections": false,
   "sideBar": true,
   "skip_h1_title": false,
   "title_cell": "Table of Contents",
   "title_sidebar": "Contents",
   "toc_cell": false,
   "toc_position": {},
   "toc_section_display": true,
   "toc_window_display": false
  },
  "varInspector": {
   "cols": {
    "lenName": 16,
    "lenType": 16,
    "lenVar": 40
   },
   "kernels_config": {
    "python": {
     "delete_cmd_postfix": "",
     "delete_cmd_prefix": "del ",
     "library": "var_list.py",
     "varRefreshCmd": "print(var_dic_list())"
    },
    "r": {
     "delete_cmd_postfix": ") ",
     "delete_cmd_prefix": "rm(",
     "library": "var_list.r",
     "varRefreshCmd": "cat(var_dic_list()) "
    }
   },
   "types_to_exclude": [
    "module",
    "function",
    "builtin_function_or_method",
    "instance",
    "_Feature"
   ],
   "window_display": false
  }
 },
 "nbformat": 4,
 "nbformat_minor": 5
}
