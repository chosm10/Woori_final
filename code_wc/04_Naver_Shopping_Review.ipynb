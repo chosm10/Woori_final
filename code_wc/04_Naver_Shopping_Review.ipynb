{
 "cells": [
  {
   "cell_type": "markdown",
   "id": "acfb52ad",
   "metadata": {},
   "source": [
    "## 쇼핑 상품 리뷰 수집"
   ]
  },
  {
   "cell_type": "markdown",
   "id": "d61ddaa4",
   "metadata": {},
   "source": [
    "- 네이버 쇼핑(https://shopping.naver.com/) 페이지를 탐색합니다.\n",
    "  - 검색창에 관심 키워드를 입력하고 브랜드 카탈로그를 클릭합니다.(예: 스탠바이미)\n",
    "  - 주소창에서 상품코드를 확인합니다.(예: 29938164618)\n",
    "  - 웹 페이지 중간에 쇼핑몰리뷰 버튼을 클릭합니다.\n",
    "  - 크롬 개발자도구를 열고 네트워크 탭에서 문서로 이동합니다.\n",
    "  - 삭제 버튼을 클릭하고 웹 페이지를 새로고침합니다.\n",
    "  - '숫자'로 시작하는 리소스를 클릭하고 미리보기에서 수집하려는 텍스트를 찾습니다.\n",
    "  - 헤더로 이동하여 HTTP 요청 방식과 요청 URL을 확인합니다."
   ]
  },
  {
   "cell_type": "markdown",
   "id": "05d49e2e",
   "metadata": {},
   "source": [
    "### HTTP 요청 실행"
   ]
  },
  {
   "cell_type": "code",
   "execution_count": null,
   "id": "6c5e67c1",
   "metadata": {},
   "outputs": [],
   "source": [
    "# 관련 라이브러리를 호출합니다.\n",
    "import requests"
   ]
  },
  {
   "cell_type": "code",
   "execution_count": null,
   "id": "d62321bb",
   "metadata": {},
   "outputs": [],
   "source": [
    "# 상품코드를 설정합니다.(스탠바이미)\n",
    "prod = '29938164618'"
   ]
  },
  {
   "cell_type": "code",
   "execution_count": null,
   "id": "5ee77f1f",
   "metadata": {},
   "outputs": [],
   "source": [
    "# 요청 URL을 설정합니다.\n",
    "url = f'https://search.shopping.naver.com/catalog/{prod}'"
   ]
  },
  {
   "cell_type": "code",
   "execution_count": null,
   "id": "6b1c0a55",
   "metadata": {},
   "outputs": [],
   "source": [
    "# HTTP 요청을 실행합니다.\n",
    "res = requests.get(url = url)"
   ]
  },
  {
   "cell_type": "markdown",
   "id": "76b9c6c2",
   "metadata": {},
   "source": [
    "### HTTP 응답 확인"
   ]
  },
  {
   "cell_type": "code",
   "execution_count": null,
   "id": "72ff5067",
   "metadata": {},
   "outputs": [],
   "source": [
    "# HTTP 응답 상태코드를 확인합니다.\n",
    "res.status_code"
   ]
  },
  {
   "cell_type": "code",
   "execution_count": null,
   "id": "f38ca4c4",
   "metadata": {},
   "outputs": [],
   "source": [
    "# HTTP 응답 헤더에서 Content-Type을 확인합니다.\n",
    "res.headers['content-type']"
   ]
  },
  {
   "cell_type": "code",
   "execution_count": null,
   "id": "1add10f9",
   "metadata": {},
   "outputs": [],
   "source": [
    "# HTTP 응답 바디 문자열을 출력합니다.\n",
    "res.text"
   ]
  },
  {
   "cell_type": "code",
   "execution_count": null,
   "id": "191a42ae",
   "metadata": {},
   "outputs": [],
   "source": [
    "# HTTP 요청 URL을 출력합니다.\n",
    "res.url"
   ]
  },
  {
   "cell_type": "markdown",
   "id": "889f9e10",
   "metadata": {},
   "source": [
    "### HTML로 변환"
   ]
  },
  {
   "cell_type": "code",
   "execution_count": null,
   "id": "50b08052",
   "metadata": {},
   "outputs": [],
   "source": [
    "# 관련 라이브러리를 호출합니다.\n",
    "from bs4 import BeautifulSoup as bts"
   ]
  },
  {
   "cell_type": "code",
   "execution_count": null,
   "id": "4ba71544",
   "metadata": {},
   "outputs": [],
   "source": [
    "# HTTP 응답 바디 문자열을 bs4.BeautifulSoup 자료형으로 변환합니다.\n",
    "soup = bts(markup = res.text, features = 'html.parser')"
   ]
  },
  {
   "cell_type": "code",
   "execution_count": null,
   "id": "20afb1f8",
   "metadata": {},
   "outputs": [],
   "source": [
    "# soup을 출력합니다.\n",
    "soup"
   ]
  },
  {
   "cell_type": "code",
   "execution_count": null,
   "id": "abcb8306",
   "metadata": {},
   "outputs": [],
   "source": [
    "# soup의 클래스를 확인합니다.\n",
    "type(soup)"
   ]
  },
  {
   "cell_type": "markdown",
   "id": "482e2a70",
   "metadata": {},
   "source": [
    "### 고객의 상품 리뷰 수집"
   ]
  },
  {
   "cell_type": "code",
   "execution_count": null,
   "id": "43d8fe57",
   "metadata": {},
   "outputs": [],
   "source": [
    "# 상품 리뷰를 포함하는 CSS selector를 변수에 할당합니다.\n",
    "css = 'p.reviewItems_text__XrSSf'"
   ]
  },
  {
   "cell_type": "code",
   "execution_count": null,
   "id": "4f9b43cc",
   "metadata": {},
   "outputs": [],
   "source": [
    "# HTML 요소를 선택하고 items에 할당합니다.\n",
    "items = soup.select(selector = css)"
   ]
  },
  {
   "cell_type": "code",
   "execution_count": null,
   "id": "10d68fbb",
   "metadata": {},
   "outputs": [],
   "source": [
    "# items를 출력합니다.\n",
    "items"
   ]
  },
  {
   "cell_type": "code",
   "execution_count": null,
   "id": "621c5251",
   "metadata": {},
   "outputs": [],
   "source": [
    "# items의 각 원소에서 상품 리뷰를 추출합니다.\n",
    "[item.text for item in items]"
   ]
  },
  {
   "cell_type": "markdown",
   "id": "9d0b4daa",
   "metadata": {},
   "source": [
    "### 데이터프레임 생성"
   ]
  },
  {
   "cell_type": "code",
   "execution_count": null,
   "id": "c48db1a5",
   "metadata": {},
   "outputs": [],
   "source": [
    "# 사용자 모듈과 관련 라이브러리를 호출합니다.\n",
    "import myFuncs as mf\n",
    "import pandas as pd"
   ]
  },
  {
   "cell_type": "code",
   "execution_count": null,
   "id": "6953ff0d",
   "metadata": {},
   "outputs": [],
   "source": [
    "# 고객의 상품 별점과 리뷰를 수집하고 데이터프레임 df에 할당합니다.\n",
    "star = mf.getHtmlText(x = soup, css = 'span.reviewItems_average__0kLWX')\n",
    "text = mf.getHtmlText(x = soup, css = 'p.reviewItems_text__XrSSf')\n",
    "df = pd.DataFrame(data = {'별점': star, '리뷰': text})"
   ]
  },
  {
   "cell_type": "code",
   "execution_count": null,
   "id": "64fb7d40",
   "metadata": {},
   "outputs": [],
   "source": [
    "# df의 처음 5행을 출력합니다.\n",
    "df.head()"
   ]
  },
  {
   "cell_type": "markdown",
   "id": "0286ca78",
   "metadata": {},
   "source": [
    "### 작업 경로 확인 및 변경"
   ]
  },
  {
   "cell_type": "code",
   "execution_count": null,
   "id": "7340d5ac",
   "metadata": {},
   "outputs": [],
   "source": [
    "# 관련 라이브러리를 호출합니다.\n",
    "import os"
   ]
  },
  {
   "cell_type": "code",
   "execution_count": null,
   "id": "4cc55769",
   "metadata": {},
   "outputs": [],
   "source": [
    "# 현재 작업 경로를 확인합니다.\n",
    "os.getcwd()"
   ]
  },
  {
   "cell_type": "code",
   "execution_count": null,
   "id": "7c47fd83",
   "metadata": {},
   "outputs": [],
   "source": [
    "# 현재 작업 경로와 형제 폴더명이 없으면 새로 만듭니다.\n",
    "folder_path = '../data'\n",
    "if not os.path.exists(path = folder_path):\n",
    "    os.mkdir(path = folder_path)"
   ]
  },
  {
   "cell_type": "markdown",
   "id": "43592159",
   "metadata": {},
   "source": [
    "### xlsx 파일로 저장"
   ]
  },
  {
   "cell_type": "code",
   "execution_count": null,
   "id": "12e25874",
   "metadata": {
    "scrolled": true
   },
   "outputs": [],
   "source": [
    "# data 폴더로 작업 경로를 변경합니다.\n",
    "os.chdir(path = folder_path)"
   ]
  },
  {
   "cell_type": "code",
   "execution_count": null,
   "id": "ca944364",
   "metadata": {},
   "outputs": [],
   "source": [
    "# xlsx 파일로 저장합니다.\n",
    "df.to_excel(excel_writer = 'Shopping_Review.xlsx', index = None)"
   ]
  },
  {
   "cell_type": "code",
   "execution_count": null,
   "id": "fae94fdb",
   "metadata": {},
   "outputs": [],
   "source": [
    "# 현재 작업 경로에 있는 폴더명과 파일명을 출력합니다.\n",
    "os.listdir()"
   ]
  },
  {
   "cell_type": "markdown",
   "id": "b5c2279e",
   "metadata": {},
   "source": [
    "## End of Document"
   ]
  }
 ],
 "metadata": {
  "kernelspec": {
   "display_name": "Python 3 (ipykernel)",
   "language": "python",
   "name": "python3"
  },
  "language_info": {
   "codemirror_mode": {
    "name": "ipython",
    "version": 3
   },
   "file_extension": ".py",
   "mimetype": "text/x-python",
   "name": "python",
   "nbconvert_exporter": "python",
   "pygments_lexer": "ipython3",
   "version": "3.11.3"
  },
  "varInspector": {
   "cols": {
    "lenName": 16,
    "lenType": 16,
    "lenVar": 40
   },
   "kernels_config": {
    "python": {
     "delete_cmd_postfix": "",
     "delete_cmd_prefix": "del ",
     "library": "var_list.py",
     "varRefreshCmd": "print(var_dic_list())"
    },
    "r": {
     "delete_cmd_postfix": ") ",
     "delete_cmd_prefix": "rm(",
     "library": "var_list.r",
     "varRefreshCmd": "cat(var_dic_list()) "
    }
   },
   "types_to_exclude": [
    "module",
    "function",
    "builtin_function_or_method",
    "instance",
    "_Feature"
   ],
   "window_display": false
  }
 },
 "nbformat": 4,
 "nbformat_minor": 5
}
