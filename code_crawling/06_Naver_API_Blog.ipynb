{
 "cells": [
  {
   "cell_type": "markdown",
   "id": "7a54df61",
   "metadata": {},
   "source": [
    "# 네이버 API: 블로그 검색"
   ]
  },
  {
   "cell_type": "markdown",
   "id": "af42147c",
   "metadata": {},
   "source": [
    "- 네이버 개발자센터(https://developers.naver.com/main) 페이지를 찾습니다.\n",
    "  - 로그인하고 애플리케이션을 등록합니다.\n",
    "  - Client ID와 Secret를 복사하여 Jupyter Notebook에 붙여넣습니다.\n",
    "  - 검색 개발 가이드에서 요청 및 응답 메시지를 확인합니다."
   ]
  },
  {
   "cell_type": "markdown",
   "id": "05aa09f0",
   "metadata": {},
   "source": [
    "### HTTP 요청 실행"
   ]
  },
  {
   "cell_type": "code",
   "execution_count": null,
   "id": "46c6ac51",
   "metadata": {},
   "outputs": [],
   "source": [
    "# 관련 라이브러리를 호출합니다.\n",
    "import requests"
   ]
  },
  {
   "cell_type": "code",
   "execution_count": null,
   "id": "093d0e78",
   "metadata": {},
   "outputs": [],
   "source": [
    "# 요청 URL을 설정합니다.(출력 포맷: JSON)\n",
    "url = 'https://openapi.naver.com/v1/search/blog.json'"
   ]
  },
  {
   "cell_type": "code",
   "execution_count": null,
   "id": "43a73a14",
   "metadata": {},
   "outputs": [],
   "source": [
    "# 검색어를 설정합니다.\n",
    "searchWord = '스탠바이미'"
   ]
  },
  {
   "cell_type": "code",
   "execution_count": null,
   "id": "dba29ea3",
   "metadata": {},
   "outputs": [],
   "source": [
    "# 쿼리 문자열을 딕셔너리로 설정합니다.\n",
    "query = {'query': searchWord}"
   ]
  },
  {
   "cell_type": "code",
   "execution_count": null,
   "id": "6edcdd09",
   "metadata": {},
   "outputs": [],
   "source": [
    "# 요청 헤더를 딕셔너리로 지정합니다.\n",
    "headers = {'X-Naver-Client-Id': 'Client ID 붙여넣기',\n",
    "           'X-Naver-Client-Secret': 'Client Secret 붙여넣기'}"
   ]
  },
  {
   "cell_type": "code",
   "execution_count": null,
   "id": "56b8bb1e",
   "metadata": {},
   "outputs": [],
   "source": [
    "# HTTP 요청을 실행합니다.\n",
    "res = requests.get(url = url, params = query, headers = headers)"
   ]
  },
  {
   "cell_type": "markdown",
   "id": "6a691abb",
   "metadata": {},
   "source": [
    "### HTTP 응답 확인"
   ]
  },
  {
   "cell_type": "code",
   "execution_count": null,
   "id": "1c847f76",
   "metadata": {},
   "outputs": [],
   "source": [
    "# HTTP 응답 상태코드를 확인합니다.\n",
    "res.status_code"
   ]
  },
  {
   "cell_type": "code",
   "execution_count": null,
   "id": "8ffd3322",
   "metadata": {
    "scrolled": true
   },
   "outputs": [],
   "source": [
    "# HTTP 응답 헤더에서 Content-Type을 확인합니다.\n",
    "res.headers['content-type']"
   ]
  },
  {
   "cell_type": "code",
   "execution_count": null,
   "id": "e7778a6f",
   "metadata": {
    "scrolled": true
   },
   "outputs": [],
   "source": [
    "# HTTP 응답 바디 문자열을 출력합니다.\n",
    "print(res.text)"
   ]
  },
  {
   "cell_type": "code",
   "execution_count": null,
   "id": "463fbc70",
   "metadata": {},
   "outputs": [],
   "source": [
    "# HTTP 요청 URL을 확인합니다.\n",
    "res.url"
   ]
  },
  {
   "cell_type": "markdown",
   "id": "16128d4d",
   "metadata": {},
   "source": [
    "### JSON 데이터 전처리"
   ]
  },
  {
   "cell_type": "code",
   "execution_count": null,
   "id": "e391186d",
   "metadata": {},
   "outputs": [],
   "source": [
    "# 관련 라이브러리를 호출합니다.\n",
    "import json"
   ]
  },
  {
   "cell_type": "code",
   "execution_count": null,
   "id": "c9a8f653",
   "metadata": {},
   "outputs": [],
   "source": [
    "# HTTP 응답 바디 문자열을 딕셔너리로 변환합니다.\n",
    "dat = json.loads(s = res.text)"
   ]
  },
  {
   "cell_type": "code",
   "execution_count": null,
   "id": "22b704d5",
   "metadata": {
    "scrolled": true
   },
   "outputs": [],
   "source": [
    "# dat를 확인합니다.\n",
    "dat"
   ]
  },
  {
   "cell_type": "code",
   "execution_count": null,
   "id": "e5e271f7",
   "metadata": {},
   "outputs": [],
   "source": [
    "# dat의 클래스를 확인합니다.\n",
    "type(dat)"
   ]
  },
  {
   "cell_type": "code",
   "execution_count": null,
   "id": "4d999d61",
   "metadata": {},
   "outputs": [],
   "source": [
    "# dat에서 결과를 선택하고 result에 할당합니다.\n",
    "result = dat['items']"
   ]
  },
  {
   "cell_type": "markdown",
   "id": "b5f46cbb",
   "metadata": {},
   "source": [
    "### 데이터프레임 생성"
   ]
  },
  {
   "cell_type": "code",
   "execution_count": null,
   "id": "f7c2b36a",
   "metadata": {},
   "outputs": [],
   "source": [
    "# 관련 라이브러리를 호출합니다.\n",
    "import pandas as pd"
   ]
  },
  {
   "cell_type": "code",
   "execution_count": null,
   "id": "6744e01d",
   "metadata": {
    "scrolled": true
   },
   "outputs": [],
   "source": [
    "# result로 데이터프레임을 생성합니다.\n",
    "df = pd.DataFrame(data = result)"
   ]
  },
  {
   "cell_type": "code",
   "execution_count": null,
   "id": "9663d64b",
   "metadata": {},
   "outputs": [],
   "source": [
    "# df의 정보를 확인합니다.\n",
    "df.info()"
   ]
  },
  {
   "cell_type": "code",
   "execution_count": null,
   "id": "ee26cf26",
   "metadata": {},
   "outputs": [],
   "source": [
    "# df의 처음 5행을 출력합니다.\n",
    "df.head()"
   ]
  },
  {
   "cell_type": "markdown",
   "id": "21843dcc",
   "metadata": {},
   "source": [
    "### 데이터 전처리"
   ]
  },
  {
   "cell_type": "code",
   "execution_count": null,
   "id": "ba4c9738",
   "metadata": {},
   "outputs": [],
   "source": [
    "# df에서 일부 열을 삭제하고 df에 재할당합니다.\n",
    "df = df.drop(columns = ['description', 'bloggerlink'])"
   ]
  },
  {
   "cell_type": "code",
   "execution_count": null,
   "id": "30477087",
   "metadata": {},
   "outputs": [],
   "source": [
    "# title 열의 원소를 전처리할 정규표현식 패턴을 지정합니다.\n",
    "p = r'<.+?>|\\[.+?\\]|\\]|&#8203;'"
   ]
  },
  {
   "cell_type": "code",
   "execution_count": null,
   "id": "f41b0abd",
   "metadata": {},
   "outputs": [],
   "source": [
    "# title 열의 원소에서 정규표현식 패턴을 모두 삭제합니다.\n",
    "df['title'] = df['title'].str.replace(pat = p, repl = '', regex = True)"
   ]
  },
  {
   "cell_type": "code",
   "execution_count": null,
   "id": "3854ebdc",
   "metadata": {},
   "outputs": [],
   "source": [
    "# postdate의 자료형을 날짜시간형으로 변환합니다.\n",
    "df['postdate'] = pd.to_datetime(arg = df['postdate'], format = '%Y%m%d')"
   ]
  },
  {
   "cell_type": "markdown",
   "id": "20dcbced",
   "metadata": {},
   "source": [
    "### 작업 경로 확인 및 변경"
   ]
  },
  {
   "cell_type": "code",
   "execution_count": null,
   "id": "ccb08a64",
   "metadata": {},
   "outputs": [],
   "source": [
    "# 관련 라이브러리를 호출합니다.\n",
    "import os"
   ]
  },
  {
   "cell_type": "code",
   "execution_count": null,
   "id": "e33fdf19",
   "metadata": {},
   "outputs": [],
   "source": [
    "# 현재 작업 경로를 확인합니다.\n",
    "os.getcwd()"
   ]
  },
  {
   "cell_type": "code",
   "execution_count": null,
   "id": "dbfa0589",
   "metadata": {},
   "outputs": [],
   "source": [
    "# data 폴더로 작업 경로를 변경합니다.\n",
    "os.chdir(path = '../data')"
   ]
  },
  {
   "cell_type": "markdown",
   "id": "319bef6d",
   "metadata": {},
   "source": [
    "### xlsx 파일로 저장"
   ]
  },
  {
   "cell_type": "code",
   "execution_count": null,
   "id": "b514b1b4",
   "metadata": {},
   "outputs": [],
   "source": [
    "# xlsx 파일로 저장합니다.\n",
    "df.to_excel(excel_writer = 'Naver_API_Blog.xlsx', index = None)"
   ]
  },
  {
   "cell_type": "code",
   "execution_count": null,
   "id": "c6593ba6",
   "metadata": {},
   "outputs": [],
   "source": [
    "# 현재 작업 경로에 있는 폴더명과 파일명을 출력합니다.\n",
    "os.listdir()"
   ]
  },
  {
   "cell_type": "markdown",
   "id": "b0d0d85e",
   "metadata": {},
   "source": [
    "## End of Document"
   ]
  }
 ],
 "metadata": {
  "kernelspec": {
   "display_name": "Python 3 (ipykernel)",
   "language": "python",
   "name": "python3"
  },
  "language_info": {
   "codemirror_mode": {
    "name": "ipython",
    "version": 3
   },
   "file_extension": ".py",
   "mimetype": "text/x-python",
   "name": "python",
   "nbconvert_exporter": "python",
   "pygments_lexer": "ipython3",
   "version": "3.11.3"
  },
  "varInspector": {
   "cols": {
    "lenName": 16,
    "lenType": 16,
    "lenVar": 40
   },
   "kernels_config": {
    "python": {
     "delete_cmd_postfix": "",
     "delete_cmd_prefix": "del ",
     "library": "var_list.py",
     "varRefreshCmd": "print(var_dic_list())"
    },
    "r": {
     "delete_cmd_postfix": ") ",
     "delete_cmd_prefix": "rm(",
     "library": "var_list.r",
     "varRefreshCmd": "cat(var_dic_list()) "
    }
   },
   "types_to_exclude": [
    "module",
    "function",
    "builtin_function_or_method",
    "instance",
    "_Feature"
   ],
   "window_display": false
  }
 },
 "nbformat": 4,
 "nbformat_minor": 5
}
