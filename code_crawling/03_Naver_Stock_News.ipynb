{
 "cells": [
  {
   "cell_type": "markdown",
   "metadata": {},
   "source": [
    "## 증권 주요뉴스 수집"
   ]
  },
  {
   "cell_type": "markdown",
   "metadata": {},
   "source": [
    "- 네이버 증권(https://finance.naver.com/) 페이지를 탐색합니다.\n",
    "  - 상단 메뉴에서 뉴스 → 주요뉴스를 차례로 클릭합니다.\n",
    "  - 크롬 개발자도구를 열고 네트워크 탭에서 문서로 이동합니다.\n",
    "  - 웹 페이지 하단에 있는 날짜 네비게이션에서 이전 날짜를 클릭합니다.\n",
    "    - 요청 URL에 쿼리 문자열이 추가되었으므로 원하는 날짜를 지정할 수 있습니다.\n",
    "  - 'mainnews'로 시작하는 리소스를 클릭하고 미리보기에서 수집하려는 텍스트를 찾습니다.\n",
    "  - 헤더로 이동하여 HTTP 요청 방식과 요청 URL을 확인합니다.\n",
    "  - 페이로드로 이동하여 쿼리 문자열을 확인합니다."
   ]
  },
  {
   "cell_type": "markdown",
   "metadata": {},
   "source": [
    "### HTTP 요청 실행"
   ]
  },
  {
   "cell_type": "code",
   "execution_count": null,
   "metadata": {},
   "outputs": [],
   "source": [
    "# 관련 라이브러리를 호출합니다.\n",
    "import requests"
   ]
  },
  {
   "cell_type": "code",
   "execution_count": null,
   "metadata": {},
   "outputs": [],
   "source": [
    "# 요청 URL을 설정합니다.\n",
    "url = 'https://finance.naver.com/news/mainnews.naver'"
   ]
  },
  {
   "cell_type": "code",
   "execution_count": null,
   "metadata": {},
   "outputs": [],
   "source": [
    "# 쿼리 문자열을 딕셔너리로 설정합니다. [참고] 날짜를 'yyyy-mm-dd'로 지정합니다.\n",
    "query = {'date': '2023-06-01'}"
   ]
  },
  {
   "cell_type": "code",
   "execution_count": null,
   "metadata": {},
   "outputs": [],
   "source": [
    "# HTTP 요청을 실행합니다.\n",
    "res = requests.get(url = url, params = query)"
   ]
  },
  {
   "cell_type": "markdown",
   "metadata": {},
   "source": [
    "### HTTP 응답 확인"
   ]
  },
  {
   "cell_type": "code",
   "execution_count": null,
   "metadata": {},
   "outputs": [],
   "source": [
    "# HTTP 응답 상태코드를 확인합니다.\n",
    "res.status_code"
   ]
  },
  {
   "cell_type": "code",
   "execution_count": null,
   "metadata": {},
   "outputs": [],
   "source": [
    "# HTTP 응답 헤더에서 Content-type을 확인합니다.\n",
    "res.headers['content-type']"
   ]
  },
  {
   "cell_type": "code",
   "execution_count": null,
   "metadata": {},
   "outputs": [],
   "source": [
    "# HTTP 응답 바디 문자열을 출력합니다.\n",
    "print(res.text)"
   ]
  },
  {
   "cell_type": "code",
   "execution_count": null,
   "metadata": {},
   "outputs": [],
   "source": [
    "# HTTP 요청 URL을 확인합니다.\n",
    "res.url"
   ]
  },
  {
   "cell_type": "markdown",
   "metadata": {},
   "source": [
    "### HTML로 변환"
   ]
  },
  {
   "cell_type": "code",
   "execution_count": null,
   "metadata": {},
   "outputs": [],
   "source": [
    "# 관련 라이브러리를 호출합니다.\n",
    "from bs4 import BeautifulSoup as bts"
   ]
  },
  {
   "cell_type": "code",
   "execution_count": null,
   "metadata": {},
   "outputs": [],
   "source": [
    "# HTTP 응답 바디 문자열을 bs4.BeautifulSoup 자료형으로 변환합니다.\n",
    "soup = bts(markup = res.text, features = 'html.parser')"
   ]
  },
  {
   "cell_type": "code",
   "execution_count": null,
   "metadata": {},
   "outputs": [],
   "source": [
    "# soup을 확인합니다.\n",
    "soup"
   ]
  },
  {
   "cell_type": "code",
   "execution_count": null,
   "metadata": {},
   "outputs": [],
   "source": [
    "# soup의 클래스를 확인합니다.\n",
    "type(soup)"
   ]
  },
  {
   "cell_type": "markdown",
   "metadata": {},
   "source": [
    "### 뉴스 정보 수집"
   ]
  },
  {
   "cell_type": "code",
   "execution_count": null,
   "metadata": {},
   "outputs": [],
   "source": [
    "# 뉴스 제목을 포함하는 HTML 요소를 선택하고 items에 할당합니다.\n",
    "items = soup.select(selector = '.articleSubject > a')"
   ]
  },
  {
   "cell_type": "code",
   "execution_count": null,
   "metadata": {
    "scrolled": true
   },
   "outputs": [],
   "source": [
    "# items를 확인합니다.\n",
    "items"
   ]
  },
  {
   "cell_type": "code",
   "execution_count": null,
   "metadata": {},
   "outputs": [],
   "source": [
    "# items의 첫 번째 원소에서 뉴스 제목을 추출합니다.\n",
    "items[0].text"
   ]
  },
  {
   "cell_type": "code",
   "execution_count": null,
   "metadata": {},
   "outputs": [],
   "source": [
    "# items의 첫 번째 원소에서 뉴스 링크를 추출합니다.\n",
    "items[0]['href']"
   ]
  },
  {
   "cell_type": "markdown",
   "metadata": {},
   "source": [
    "### HTML 요소의 속성값을 리스트로 저장하는 함수 생성"
   ]
  },
  {
   "cell_type": "code",
   "execution_count": null,
   "metadata": {},
   "outputs": [],
   "source": [
    "# HTML 요소의 텍스트를 원소로 갖는 리스트를 반환하는 함수를 생성합니다.\n",
    "def getHtmlText(x, css):\n",
    "    items = x.select(selector = css)\n",
    "    return [item.text for item in items]\n",
    "\n",
    "# HTML 요소의 속성값을 원소로 갖는 리스트를 반환하는 함수를 생성합니다.\n",
    "def getHtmlAttr(x, css, key):\n",
    "    items = x.select(selector = css)\n",
    "    return [item[key] for item in items]"
   ]
  },
  {
   "cell_type": "markdown",
   "metadata": {},
   "source": [
    "### 뉴스 정보 수집"
   ]
  },
  {
   "cell_type": "code",
   "execution_count": null,
   "metadata": {},
   "outputs": [],
   "source": [
    "# 뉴스 제목을 리스트로 생성합니다.\n",
    "getHtmlText(x = soup, css = '.articleSubject > a')"
   ]
  },
  {
   "cell_type": "code",
   "execution_count": null,
   "metadata": {},
   "outputs": [],
   "source": [
    "# 뉴스 링크를 리스트로 생성합니다.\n",
    "getHtmlAttr(x = soup, css = '.articleSubject > a', key = 'href')"
   ]
  },
  {
   "cell_type": "code",
   "execution_count": null,
   "metadata": {
    "scrolled": true
   },
   "outputs": [],
   "source": [
    "# 뉴스 요약을 리스트로 저장합니다.\n",
    "getHtmlText(x = soup, css = '.articleSummary')"
   ]
  },
  {
   "cell_type": "markdown",
   "metadata": {},
   "source": [
    "## End of Document"
   ]
  }
 ],
 "metadata": {
  "kernelspec": {
   "display_name": "Python 3 (ipykernel)",
   "language": "python",
   "name": "python3"
  },
  "language_info": {
   "codemirror_mode": {
    "name": "ipython",
    "version": 3
   },
   "file_extension": ".py",
   "mimetype": "text/x-python",
   "name": "python",
   "nbconvert_exporter": "python",
   "pygments_lexer": "ipython3",
   "version": "3.11.3"
  },
  "toc": {
   "base_numbering": 1,
   "nav_menu": {},
   "number_sections": true,
   "sideBar": true,
   "skip_h1_title": false,
   "title_cell": "Table of Contents",
   "title_sidebar": "Contents",
   "toc_cell": false,
   "toc_position": {},
   "toc_section_display": true,
   "toc_window_display": true
  },
  "varInspector": {
   "cols": {
    "lenName": 16,
    "lenType": 16,
    "lenVar": 40
   },
   "kernels_config": {
    "python": {
     "delete_cmd_postfix": "",
     "delete_cmd_prefix": "del ",
     "library": "var_list.py",
     "varRefreshCmd": "print(var_dic_list())"
    },
    "r": {
     "delete_cmd_postfix": ") ",
     "delete_cmd_prefix": "rm(",
     "library": "var_list.r",
     "varRefreshCmd": "cat(var_dic_list()) "
    }
   },
   "types_to_exclude": [
    "module",
    "function",
    "builtin_function_or_method",
    "instance",
    "_Feature"
   ],
   "window_display": false
  }
 },
 "nbformat": 4,
 "nbformat_minor": 4
}
